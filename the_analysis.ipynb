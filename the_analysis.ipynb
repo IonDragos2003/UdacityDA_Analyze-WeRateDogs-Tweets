{
 "metadata": {
  "language_info": {
   "codemirror_mode": {
    "name": "ipython",
    "version": 3
   },
   "file_extension": ".py",
   "mimetype": "text/x-python",
   "name": "python",
   "nbconvert_exporter": "python",
   "pygments_lexer": "ipython3",
   "version": "3.6.10-final"
  },
  "orig_nbformat": 2,
  "kernelspec": {
   "name": "python361064bittestcondae2128a4af25040ab9546068ff4dee0d3",
   "display_name": "Python 3.6.10 64-bit ('test': conda)"
  }
 },
 "nbformat": 4,
 "nbformat_minor": 2,
 "cells": [
  {
   "cell_type": "code",
   "execution_count": 1,
   "metadata": {},
   "outputs": [],
   "source": [
    "# Importing libraries\n",
    "import numpy as np\n",
    "import pandas as pd \n",
    "import csv\n",
    "import requests \n",
    "import tweepy\n",
    "from tweepy import OAuthHandler\n",
    "import json\n",
    "from timeit import default_timer as timer"
   ]
  },
  {
   "cell_type": "code",
   "execution_count": 2,
   "metadata": {},
   "outputs": [],
   "source": [
    "# Twitter's credentials to get the additional data\n",
    "consumer_key = '6JdipaDvTXiKqVIixUH5Bk6wV'\n",
    "consumer_secret = 'DAf2rncIRPK9vNe5iPTINPXpQRwcFYxJhMfOUQOJiqGjmYnFrT'\n",
    "access_token = '1287785076005240832-UkYLOP7JLZBXkjJ64asH2Tc4W6dfII'\n",
    "access_secret = 'qBHv4KOasCzqBN3fSvBt0ry3p1RBgGB0kyLDpXYmv2uXL'"
   ]
  },
  {
   "cell_type": "code",
   "execution_count": 3,
   "metadata": {},
   "outputs": [],
   "source": [
    "auth = OAuthHandler(consumer_key, consumer_secret)\n",
    "auth.set_access_token(access_token, access_secret)"
   ]
  },
  {
   "cell_type": "code",
   "execution_count": 4,
   "metadata": {},
   "outputs": [],
   "source": [
    "api = tweepy.API(auth, wait_on_rate_limit=True)"
   ]
  },
  {
   "cell_type": "markdown",
   "metadata": {},
   "source": [
    "### Gathering\n",
    "\n",
    "##### We need to import three datasets, one given, one using requests, one from API"
   ]
  },
  {
   "cell_type": "code",
   "execution_count": 6,
   "metadata": {
    "tags": []
   },
   "outputs": [
    {
     "output_type": "error",
     "ename": "ConnectionError",
     "evalue": "HTTPSConnectionPool(host='d17h27t6h515a5.cloudfront.net', port=443): Max retries exceeded with url: /topher/2017/August/599fd2ad_image-predictions/image-predictions.tsv (Caused by NewConnectionError('<urllib3.connection.HTTPSConnection object at 0x000001E1D39A8748>: Failed to establish a new connection: [Errno 11001] getaddrinfo failed',))",
     "traceback": [
      "\u001b[1;31m---------------------------------------------------------------------------\u001b[0m",
      "\u001b[1;31mgaierror\u001b[0m                                  Traceback (most recent call last)",
      "\u001b[1;32m~\\.conda\\envs\\test\\lib\\site-packages\\urllib3\\connection.py\u001b[0m in \u001b[0;36m_new_conn\u001b[1;34m(self)\u001b[0m\n\u001b[0;32m    159\u001b[0m             conn = connection.create_connection(\n\u001b[1;32m--> 160\u001b[1;33m                 \u001b[1;33m(\u001b[0m\u001b[0mself\u001b[0m\u001b[1;33m.\u001b[0m\u001b[0m_dns_host\u001b[0m\u001b[1;33m,\u001b[0m \u001b[0mself\u001b[0m\u001b[1;33m.\u001b[0m\u001b[0mport\u001b[0m\u001b[1;33m)\u001b[0m\u001b[1;33m,\u001b[0m \u001b[0mself\u001b[0m\u001b[1;33m.\u001b[0m\u001b[0mtimeout\u001b[0m\u001b[1;33m,\u001b[0m \u001b[1;33m**\u001b[0m\u001b[0mextra_kw\u001b[0m\u001b[1;33m\u001b[0m\u001b[1;33m\u001b[0m\u001b[0m\n\u001b[0m\u001b[0;32m    161\u001b[0m             )\n",
      "\u001b[1;32m~\\.conda\\envs\\test\\lib\\site-packages\\urllib3\\util\\connection.py\u001b[0m in \u001b[0;36mcreate_connection\u001b[1;34m(address, timeout, source_address, socket_options)\u001b[0m\n\u001b[0;32m     60\u001b[0m \u001b[1;33m\u001b[0m\u001b[0m\n\u001b[1;32m---> 61\u001b[1;33m     \u001b[1;32mfor\u001b[0m \u001b[0mres\u001b[0m \u001b[1;32min\u001b[0m \u001b[0msocket\u001b[0m\u001b[1;33m.\u001b[0m\u001b[0mgetaddrinfo\u001b[0m\u001b[1;33m(\u001b[0m\u001b[0mhost\u001b[0m\u001b[1;33m,\u001b[0m \u001b[0mport\u001b[0m\u001b[1;33m,\u001b[0m \u001b[0mfamily\u001b[0m\u001b[1;33m,\u001b[0m \u001b[0msocket\u001b[0m\u001b[1;33m.\u001b[0m\u001b[0mSOCK_STREAM\u001b[0m\u001b[1;33m)\u001b[0m\u001b[1;33m:\u001b[0m\u001b[1;33m\u001b[0m\u001b[1;33m\u001b[0m\u001b[0m\n\u001b[0m\u001b[0;32m     62\u001b[0m         \u001b[0maf\u001b[0m\u001b[1;33m,\u001b[0m \u001b[0msocktype\u001b[0m\u001b[1;33m,\u001b[0m \u001b[0mproto\u001b[0m\u001b[1;33m,\u001b[0m \u001b[0mcanonname\u001b[0m\u001b[1;33m,\u001b[0m \u001b[0msa\u001b[0m \u001b[1;33m=\u001b[0m \u001b[0mres\u001b[0m\u001b[1;33m\u001b[0m\u001b[1;33m\u001b[0m\u001b[0m\n",
      "\u001b[1;32m~\\.conda\\envs\\test\\lib\\socket.py\u001b[0m in \u001b[0;36mgetaddrinfo\u001b[1;34m(host, port, family, type, proto, flags)\u001b[0m\n\u001b[0;32m    744\u001b[0m     \u001b[0maddrlist\u001b[0m \u001b[1;33m=\u001b[0m \u001b[1;33m[\u001b[0m\u001b[1;33m]\u001b[0m\u001b[1;33m\u001b[0m\u001b[1;33m\u001b[0m\u001b[0m\n\u001b[1;32m--> 745\u001b[1;33m     \u001b[1;32mfor\u001b[0m \u001b[0mres\u001b[0m \u001b[1;32min\u001b[0m \u001b[0m_socket\u001b[0m\u001b[1;33m.\u001b[0m\u001b[0mgetaddrinfo\u001b[0m\u001b[1;33m(\u001b[0m\u001b[0mhost\u001b[0m\u001b[1;33m,\u001b[0m \u001b[0mport\u001b[0m\u001b[1;33m,\u001b[0m \u001b[0mfamily\u001b[0m\u001b[1;33m,\u001b[0m \u001b[0mtype\u001b[0m\u001b[1;33m,\u001b[0m \u001b[0mproto\u001b[0m\u001b[1;33m,\u001b[0m \u001b[0mflags\u001b[0m\u001b[1;33m)\u001b[0m\u001b[1;33m:\u001b[0m\u001b[1;33m\u001b[0m\u001b[1;33m\u001b[0m\u001b[0m\n\u001b[0m\u001b[0;32m    746\u001b[0m         \u001b[0maf\u001b[0m\u001b[1;33m,\u001b[0m \u001b[0msocktype\u001b[0m\u001b[1;33m,\u001b[0m \u001b[0mproto\u001b[0m\u001b[1;33m,\u001b[0m \u001b[0mcanonname\u001b[0m\u001b[1;33m,\u001b[0m \u001b[0msa\u001b[0m \u001b[1;33m=\u001b[0m \u001b[0mres\u001b[0m\u001b[1;33m\u001b[0m\u001b[1;33m\u001b[0m\u001b[0m\n",
      "\u001b[1;31mgaierror\u001b[0m: [Errno 11001] getaddrinfo failed",
      "\nDuring handling of the above exception, another exception occurred:\n",
      "\u001b[1;31mNewConnectionError\u001b[0m                        Traceback (most recent call last)",
      "\u001b[1;32m~\\.conda\\envs\\test\\lib\\site-packages\\urllib3\\connectionpool.py\u001b[0m in \u001b[0;36murlopen\u001b[1;34m(self, method, url, body, headers, retries, redirect, assert_same_host, timeout, pool_timeout, release_conn, chunked, body_pos, **response_kw)\u001b[0m\n\u001b[0;32m    676\u001b[0m                 \u001b[0mheaders\u001b[0m\u001b[1;33m=\u001b[0m\u001b[0mheaders\u001b[0m\u001b[1;33m,\u001b[0m\u001b[1;33m\u001b[0m\u001b[1;33m\u001b[0m\u001b[0m\n\u001b[1;32m--> 677\u001b[1;33m                 \u001b[0mchunked\u001b[0m\u001b[1;33m=\u001b[0m\u001b[0mchunked\u001b[0m\u001b[1;33m,\u001b[0m\u001b[1;33m\u001b[0m\u001b[1;33m\u001b[0m\u001b[0m\n\u001b[0m\u001b[0;32m    678\u001b[0m             )\n",
      "\u001b[1;32m~\\.conda\\envs\\test\\lib\\site-packages\\urllib3\\connectionpool.py\u001b[0m in \u001b[0;36m_make_request\u001b[1;34m(self, conn, method, url, timeout, chunked, **httplib_request_kw)\u001b[0m\n\u001b[0;32m    380\u001b[0m         \u001b[1;32mtry\u001b[0m\u001b[1;33m:\u001b[0m\u001b[1;33m\u001b[0m\u001b[1;33m\u001b[0m\u001b[0m\n\u001b[1;32m--> 381\u001b[1;33m             \u001b[0mself\u001b[0m\u001b[1;33m.\u001b[0m\u001b[0m_validate_conn\u001b[0m\u001b[1;33m(\u001b[0m\u001b[0mconn\u001b[0m\u001b[1;33m)\u001b[0m\u001b[1;33m\u001b[0m\u001b[1;33m\u001b[0m\u001b[0m\n\u001b[0m\u001b[0;32m    382\u001b[0m         \u001b[1;32mexcept\u001b[0m \u001b[1;33m(\u001b[0m\u001b[0mSocketTimeout\u001b[0m\u001b[1;33m,\u001b[0m \u001b[0mBaseSSLError\u001b[0m\u001b[1;33m)\u001b[0m \u001b[1;32mas\u001b[0m \u001b[0me\u001b[0m\u001b[1;33m:\u001b[0m\u001b[1;33m\u001b[0m\u001b[1;33m\u001b[0m\u001b[0m\n",
      "\u001b[1;32m~\\.conda\\envs\\test\\lib\\site-packages\\urllib3\\connectionpool.py\u001b[0m in \u001b[0;36m_validate_conn\u001b[1;34m(self, conn)\u001b[0m\n\u001b[0;32m    975\u001b[0m         \u001b[1;32mif\u001b[0m \u001b[1;32mnot\u001b[0m \u001b[0mgetattr\u001b[0m\u001b[1;33m(\u001b[0m\u001b[0mconn\u001b[0m\u001b[1;33m,\u001b[0m \u001b[1;34m\"sock\"\u001b[0m\u001b[1;33m,\u001b[0m \u001b[1;32mNone\u001b[0m\u001b[1;33m)\u001b[0m\u001b[1;33m:\u001b[0m  \u001b[1;31m# AppEngine might not have  `.sock`\u001b[0m\u001b[1;33m\u001b[0m\u001b[1;33m\u001b[0m\u001b[0m\n\u001b[1;32m--> 976\u001b[1;33m             \u001b[0mconn\u001b[0m\u001b[1;33m.\u001b[0m\u001b[0mconnect\u001b[0m\u001b[1;33m(\u001b[0m\u001b[1;33m)\u001b[0m\u001b[1;33m\u001b[0m\u001b[1;33m\u001b[0m\u001b[0m\n\u001b[0m\u001b[0;32m    977\u001b[0m \u001b[1;33m\u001b[0m\u001b[0m\n",
      "\u001b[1;32m~\\.conda\\envs\\test\\lib\\site-packages\\urllib3\\connection.py\u001b[0m in \u001b[0;36mconnect\u001b[1;34m(self)\u001b[0m\n\u001b[0;32m    307\u001b[0m         \u001b[1;31m# Add certificate verification\u001b[0m\u001b[1;33m\u001b[0m\u001b[1;33m\u001b[0m\u001b[1;33m\u001b[0m\u001b[0m\n\u001b[1;32m--> 308\u001b[1;33m         \u001b[0mconn\u001b[0m \u001b[1;33m=\u001b[0m \u001b[0mself\u001b[0m\u001b[1;33m.\u001b[0m\u001b[0m_new_conn\u001b[0m\u001b[1;33m(\u001b[0m\u001b[1;33m)\u001b[0m\u001b[1;33m\u001b[0m\u001b[1;33m\u001b[0m\u001b[0m\n\u001b[0m\u001b[0;32m    309\u001b[0m         \u001b[0mhostname\u001b[0m \u001b[1;33m=\u001b[0m \u001b[0mself\u001b[0m\u001b[1;33m.\u001b[0m\u001b[0mhost\u001b[0m\u001b[1;33m\u001b[0m\u001b[1;33m\u001b[0m\u001b[0m\n",
      "\u001b[1;32m~\\.conda\\envs\\test\\lib\\site-packages\\urllib3\\connection.py\u001b[0m in \u001b[0;36m_new_conn\u001b[1;34m(self)\u001b[0m\n\u001b[0;32m    171\u001b[0m             raise NewConnectionError(\n\u001b[1;32m--> 172\u001b[1;33m                 \u001b[0mself\u001b[0m\u001b[1;33m,\u001b[0m \u001b[1;34m\"Failed to establish a new connection: %s\"\u001b[0m \u001b[1;33m%\u001b[0m \u001b[0me\u001b[0m\u001b[1;33m\u001b[0m\u001b[1;33m\u001b[0m\u001b[0m\n\u001b[0m\u001b[0;32m    173\u001b[0m             )\n",
      "\u001b[1;31mNewConnectionError\u001b[0m: <urllib3.connection.HTTPSConnection object at 0x000001E1D39A8748>: Failed to establish a new connection: [Errno 11001] getaddrinfo failed",
      "\nDuring handling of the above exception, another exception occurred:\n",
      "\u001b[1;31mMaxRetryError\u001b[0m                             Traceback (most recent call last)",
      "\u001b[1;32m~\\.conda\\envs\\test\\lib\\site-packages\\requests\\adapters.py\u001b[0m in \u001b[0;36msend\u001b[1;34m(self, request, stream, timeout, verify, cert, proxies)\u001b[0m\n\u001b[0;32m    448\u001b[0m                     \u001b[0mretries\u001b[0m\u001b[1;33m=\u001b[0m\u001b[0mself\u001b[0m\u001b[1;33m.\u001b[0m\u001b[0mmax_retries\u001b[0m\u001b[1;33m,\u001b[0m\u001b[1;33m\u001b[0m\u001b[1;33m\u001b[0m\u001b[0m\n\u001b[1;32m--> 449\u001b[1;33m                     \u001b[0mtimeout\u001b[0m\u001b[1;33m=\u001b[0m\u001b[0mtimeout\u001b[0m\u001b[1;33m\u001b[0m\u001b[1;33m\u001b[0m\u001b[0m\n\u001b[0m\u001b[0;32m    450\u001b[0m                 )\n",
      "\u001b[1;32m~\\.conda\\envs\\test\\lib\\site-packages\\urllib3\\connectionpool.py\u001b[0m in \u001b[0;36murlopen\u001b[1;34m(self, method, url, body, headers, retries, redirect, assert_same_host, timeout, pool_timeout, release_conn, chunked, body_pos, **response_kw)\u001b[0m\n\u001b[0;32m    724\u001b[0m             retries = retries.increment(\n\u001b[1;32m--> 725\u001b[1;33m                 \u001b[0mmethod\u001b[0m\u001b[1;33m,\u001b[0m \u001b[0murl\u001b[0m\u001b[1;33m,\u001b[0m \u001b[0merror\u001b[0m\u001b[1;33m=\u001b[0m\u001b[0me\u001b[0m\u001b[1;33m,\u001b[0m \u001b[0m_pool\u001b[0m\u001b[1;33m=\u001b[0m\u001b[0mself\u001b[0m\u001b[1;33m,\u001b[0m \u001b[0m_stacktrace\u001b[0m\u001b[1;33m=\u001b[0m\u001b[0msys\u001b[0m\u001b[1;33m.\u001b[0m\u001b[0mexc_info\u001b[0m\u001b[1;33m(\u001b[0m\u001b[1;33m)\u001b[0m\u001b[1;33m[\u001b[0m\u001b[1;36m2\u001b[0m\u001b[1;33m]\u001b[0m\u001b[1;33m\u001b[0m\u001b[1;33m\u001b[0m\u001b[0m\n\u001b[0m\u001b[0;32m    726\u001b[0m             )\n",
      "\u001b[1;32m~\\.conda\\envs\\test\\lib\\site-packages\\urllib3\\util\\retry.py\u001b[0m in \u001b[0;36mincrement\u001b[1;34m(self, method, url, response, error, _pool, _stacktrace)\u001b[0m\n\u001b[0;32m    438\u001b[0m         \u001b[1;32mif\u001b[0m \u001b[0mnew_retry\u001b[0m\u001b[1;33m.\u001b[0m\u001b[0mis_exhausted\u001b[0m\u001b[1;33m(\u001b[0m\u001b[1;33m)\u001b[0m\u001b[1;33m:\u001b[0m\u001b[1;33m\u001b[0m\u001b[1;33m\u001b[0m\u001b[0m\n\u001b[1;32m--> 439\u001b[1;33m             \u001b[1;32mraise\u001b[0m \u001b[0mMaxRetryError\u001b[0m\u001b[1;33m(\u001b[0m\u001b[0m_pool\u001b[0m\u001b[1;33m,\u001b[0m \u001b[0murl\u001b[0m\u001b[1;33m,\u001b[0m \u001b[0merror\u001b[0m \u001b[1;32mor\u001b[0m \u001b[0mResponseError\u001b[0m\u001b[1;33m(\u001b[0m\u001b[0mcause\u001b[0m\u001b[1;33m)\u001b[0m\u001b[1;33m)\u001b[0m\u001b[1;33m\u001b[0m\u001b[1;33m\u001b[0m\u001b[0m\n\u001b[0m\u001b[0;32m    440\u001b[0m \u001b[1;33m\u001b[0m\u001b[0m\n",
      "\u001b[1;31mMaxRetryError\u001b[0m: HTTPSConnectionPool(host='d17h27t6h515a5.cloudfront.net', port=443): Max retries exceeded with url: /topher/2017/August/599fd2ad_image-predictions/image-predictions.tsv (Caused by NewConnectionError('<urllib3.connection.HTTPSConnection object at 0x000001E1D39A8748>: Failed to establish a new connection: [Errno 11001] getaddrinfo failed',))",
      "\nDuring handling of the above exception, another exception occurred:\n",
      "\u001b[1;31mConnectionError\u001b[0m                           Traceback (most recent call last)",
      "\u001b[1;32m<ipython-input-6-1090df45bbbd>\u001b[0m in \u001b[0;36m<module>\u001b[1;34m\u001b[0m\n\u001b[0;32m      1\u001b[0m \u001b[0mTSV_URL\u001b[0m \u001b[1;33m=\u001b[0m \u001b[1;34m'https://d17h27t6h515a5.cloudfront.net/topher/2017/August/599fd2ad_image-predictions/image-predictions.tsv'\u001b[0m\u001b[1;33m\u001b[0m\u001b[1;33m\u001b[0m\u001b[0m\n\u001b[0;32m      2\u001b[0m \u001b[1;33m\u001b[0m\u001b[0m\n\u001b[1;32m----> 3\u001b[1;33m \u001b[0mfile_download\u001b[0m \u001b[1;33m=\u001b[0m \u001b[0mrequests\u001b[0m\u001b[1;33m.\u001b[0m\u001b[0mget\u001b[0m\u001b[1;33m(\u001b[0m\u001b[0mTSV_URL\u001b[0m\u001b[1;33m)\u001b[0m \u001b[1;31m# Getting the content\u001b[0m\u001b[1;33m\u001b[0m\u001b[1;33m\u001b[0m\u001b[0m\n\u001b[0m\u001b[0;32m      4\u001b[0m \u001b[0mopen\u001b[0m\u001b[1;33m(\u001b[0m\u001b[1;34m'image_predictions.csv'\u001b[0m\u001b[1;33m,\u001b[0m \u001b[1;34m'wb'\u001b[0m\u001b[1;33m)\u001b[0m\u001b[1;33m.\u001b[0m\u001b[0mwrite\u001b[0m\u001b[1;33m(\u001b[0m\u001b[0mfile_download\u001b[0m\u001b[1;33m.\u001b[0m\u001b[0mcontent\u001b[0m\u001b[1;33m)\u001b[0m \u001b[1;31m# Writing the content\u001b[0m\u001b[1;33m\u001b[0m\u001b[1;33m\u001b[0m\u001b[0m\n",
      "\u001b[1;32m~\\.conda\\envs\\test\\lib\\site-packages\\requests\\api.py\u001b[0m in \u001b[0;36mget\u001b[1;34m(url, params, **kwargs)\u001b[0m\n\u001b[0;32m     74\u001b[0m \u001b[1;33m\u001b[0m\u001b[0m\n\u001b[0;32m     75\u001b[0m     \u001b[0mkwargs\u001b[0m\u001b[1;33m.\u001b[0m\u001b[0msetdefault\u001b[0m\u001b[1;33m(\u001b[0m\u001b[1;34m'allow_redirects'\u001b[0m\u001b[1;33m,\u001b[0m \u001b[1;32mTrue\u001b[0m\u001b[1;33m)\u001b[0m\u001b[1;33m\u001b[0m\u001b[1;33m\u001b[0m\u001b[0m\n\u001b[1;32m---> 76\u001b[1;33m     \u001b[1;32mreturn\u001b[0m \u001b[0mrequest\u001b[0m\u001b[1;33m(\u001b[0m\u001b[1;34m'get'\u001b[0m\u001b[1;33m,\u001b[0m \u001b[0murl\u001b[0m\u001b[1;33m,\u001b[0m \u001b[0mparams\u001b[0m\u001b[1;33m=\u001b[0m\u001b[0mparams\u001b[0m\u001b[1;33m,\u001b[0m \u001b[1;33m**\u001b[0m\u001b[0mkwargs\u001b[0m\u001b[1;33m)\u001b[0m\u001b[1;33m\u001b[0m\u001b[1;33m\u001b[0m\u001b[0m\n\u001b[0m\u001b[0;32m     77\u001b[0m \u001b[1;33m\u001b[0m\u001b[0m\n\u001b[0;32m     78\u001b[0m \u001b[1;33m\u001b[0m\u001b[0m\n",
      "\u001b[1;32m~\\.conda\\envs\\test\\lib\\site-packages\\requests\\api.py\u001b[0m in \u001b[0;36mrequest\u001b[1;34m(method, url, **kwargs)\u001b[0m\n\u001b[0;32m     59\u001b[0m     \u001b[1;31m# cases, and look like a memory leak in others.\u001b[0m\u001b[1;33m\u001b[0m\u001b[1;33m\u001b[0m\u001b[1;33m\u001b[0m\u001b[0m\n\u001b[0;32m     60\u001b[0m     \u001b[1;32mwith\u001b[0m \u001b[0msessions\u001b[0m\u001b[1;33m.\u001b[0m\u001b[0mSession\u001b[0m\u001b[1;33m(\u001b[0m\u001b[1;33m)\u001b[0m \u001b[1;32mas\u001b[0m \u001b[0msession\u001b[0m\u001b[1;33m:\u001b[0m\u001b[1;33m\u001b[0m\u001b[1;33m\u001b[0m\u001b[0m\n\u001b[1;32m---> 61\u001b[1;33m         \u001b[1;32mreturn\u001b[0m \u001b[0msession\u001b[0m\u001b[1;33m.\u001b[0m\u001b[0mrequest\u001b[0m\u001b[1;33m(\u001b[0m\u001b[0mmethod\u001b[0m\u001b[1;33m=\u001b[0m\u001b[0mmethod\u001b[0m\u001b[1;33m,\u001b[0m \u001b[0murl\u001b[0m\u001b[1;33m=\u001b[0m\u001b[0murl\u001b[0m\u001b[1;33m,\u001b[0m \u001b[1;33m**\u001b[0m\u001b[0mkwargs\u001b[0m\u001b[1;33m)\u001b[0m\u001b[1;33m\u001b[0m\u001b[1;33m\u001b[0m\u001b[0m\n\u001b[0m\u001b[0;32m     62\u001b[0m \u001b[1;33m\u001b[0m\u001b[0m\n\u001b[0;32m     63\u001b[0m \u001b[1;33m\u001b[0m\u001b[0m\n",
      "\u001b[1;32m~\\.conda\\envs\\test\\lib\\site-packages\\requests\\sessions.py\u001b[0m in \u001b[0;36mrequest\u001b[1;34m(self, method, url, params, data, headers, cookies, files, auth, timeout, allow_redirects, proxies, hooks, stream, verify, cert, json)\u001b[0m\n\u001b[0;32m    528\u001b[0m         }\n\u001b[0;32m    529\u001b[0m         \u001b[0msend_kwargs\u001b[0m\u001b[1;33m.\u001b[0m\u001b[0mupdate\u001b[0m\u001b[1;33m(\u001b[0m\u001b[0msettings\u001b[0m\u001b[1;33m)\u001b[0m\u001b[1;33m\u001b[0m\u001b[1;33m\u001b[0m\u001b[0m\n\u001b[1;32m--> 530\u001b[1;33m         \u001b[0mresp\u001b[0m \u001b[1;33m=\u001b[0m \u001b[0mself\u001b[0m\u001b[1;33m.\u001b[0m\u001b[0msend\u001b[0m\u001b[1;33m(\u001b[0m\u001b[0mprep\u001b[0m\u001b[1;33m,\u001b[0m \u001b[1;33m**\u001b[0m\u001b[0msend_kwargs\u001b[0m\u001b[1;33m)\u001b[0m\u001b[1;33m\u001b[0m\u001b[1;33m\u001b[0m\u001b[0m\n\u001b[0m\u001b[0;32m    531\u001b[0m \u001b[1;33m\u001b[0m\u001b[0m\n\u001b[0;32m    532\u001b[0m         \u001b[1;32mreturn\u001b[0m \u001b[0mresp\u001b[0m\u001b[1;33m\u001b[0m\u001b[1;33m\u001b[0m\u001b[0m\n",
      "\u001b[1;32m~\\.conda\\envs\\test\\lib\\site-packages\\requests\\sessions.py\u001b[0m in \u001b[0;36msend\u001b[1;34m(self, request, **kwargs)\u001b[0m\n\u001b[0;32m    641\u001b[0m \u001b[1;33m\u001b[0m\u001b[0m\n\u001b[0;32m    642\u001b[0m         \u001b[1;31m# Send the request\u001b[0m\u001b[1;33m\u001b[0m\u001b[1;33m\u001b[0m\u001b[1;33m\u001b[0m\u001b[0m\n\u001b[1;32m--> 643\u001b[1;33m         \u001b[0mr\u001b[0m \u001b[1;33m=\u001b[0m \u001b[0madapter\u001b[0m\u001b[1;33m.\u001b[0m\u001b[0msend\u001b[0m\u001b[1;33m(\u001b[0m\u001b[0mrequest\u001b[0m\u001b[1;33m,\u001b[0m \u001b[1;33m**\u001b[0m\u001b[0mkwargs\u001b[0m\u001b[1;33m)\u001b[0m\u001b[1;33m\u001b[0m\u001b[1;33m\u001b[0m\u001b[0m\n\u001b[0m\u001b[0;32m    644\u001b[0m \u001b[1;33m\u001b[0m\u001b[0m\n\u001b[0;32m    645\u001b[0m         \u001b[1;31m# Total elapsed time of the request (approximately)\u001b[0m\u001b[1;33m\u001b[0m\u001b[1;33m\u001b[0m\u001b[1;33m\u001b[0m\u001b[0m\n",
      "\u001b[1;32m~\\.conda\\envs\\test\\lib\\site-packages\\requests\\adapters.py\u001b[0m in \u001b[0;36msend\u001b[1;34m(self, request, stream, timeout, verify, cert, proxies)\u001b[0m\n\u001b[0;32m    514\u001b[0m                 \u001b[1;32mraise\u001b[0m \u001b[0mSSLError\u001b[0m\u001b[1;33m(\u001b[0m\u001b[0me\u001b[0m\u001b[1;33m,\u001b[0m \u001b[0mrequest\u001b[0m\u001b[1;33m=\u001b[0m\u001b[0mrequest\u001b[0m\u001b[1;33m)\u001b[0m\u001b[1;33m\u001b[0m\u001b[1;33m\u001b[0m\u001b[0m\n\u001b[0;32m    515\u001b[0m \u001b[1;33m\u001b[0m\u001b[0m\n\u001b[1;32m--> 516\u001b[1;33m             \u001b[1;32mraise\u001b[0m \u001b[0mConnectionError\u001b[0m\u001b[1;33m(\u001b[0m\u001b[0me\u001b[0m\u001b[1;33m,\u001b[0m \u001b[0mrequest\u001b[0m\u001b[1;33m=\u001b[0m\u001b[0mrequest\u001b[0m\u001b[1;33m)\u001b[0m\u001b[1;33m\u001b[0m\u001b[1;33m\u001b[0m\u001b[0m\n\u001b[0m\u001b[0;32m    517\u001b[0m \u001b[1;33m\u001b[0m\u001b[0m\n\u001b[0;32m    518\u001b[0m         \u001b[1;32mexcept\u001b[0m \u001b[0mClosedPoolError\u001b[0m \u001b[1;32mas\u001b[0m \u001b[0me\u001b[0m\u001b[1;33m:\u001b[0m\u001b[1;33m\u001b[0m\u001b[1;33m\u001b[0m\u001b[0m\n",
      "\u001b[1;31mConnectionError\u001b[0m: HTTPSConnectionPool(host='d17h27t6h515a5.cloudfront.net', port=443): Max retries exceeded with url: /topher/2017/August/599fd2ad_image-predictions/image-predictions.tsv (Caused by NewConnectionError('<urllib3.connection.HTTPSConnection object at 0x000001E1D39A8748>: Failed to establish a new connection: [Errno 11001] getaddrinfo failed',))"
     ]
    }
   ],
   "source": [
    "TSV_URL = 'https://d17h27t6h515a5.cloudfront.net/topher/2017/August/599fd2ad_image-predictions/image-predictions.tsv'\n",
    "\n",
    "file_download = requests.get(TSV_URL) # Getting the content\n",
    "open('image_predictions.csv', 'wb').write(file_download.content) # Writing the content "
   ]
  },
  {
   "cell_type": "code",
   "execution_count": 7,
   "metadata": {
    "tags": []
   },
   "outputs": [],
   "source": [
    "image_predictions = pd.read_csv('image_predictions.csv', sep='\\t') # Importing the neural network's data into a DF\n",
    "main_df = pd.read_csv('twitter-archive-enhanced.csv') # Importing the main data into another DF"
   ]
  },
  {
   "cell_type": "code",
   "execution_count": 8,
   "metadata": {},
   "outputs": [
    {
     "output_type": "execute_result",
     "data": {
      "text/plain": "2356"
     },
     "metadata": {},
     "execution_count": 8
    }
   ],
   "source": [
    "tweet_ids = main_df.tweet_id.values\n",
    "len(tweet_ids)"
   ]
  },
  {
   "cell_type": "code",
   "execution_count": 13,
   "metadata": {
    "tags": [
     "outputPrepend"
    ]
   },
   "outputs": [
    {
     "output_type": "stream",
     "name": "stdout",
     "text": "676575501977128964\nSuccess\n1824: 676533798876651520\nSuccess\n1825: 676496375194980353\nSuccess\n1826: 676470639084101634\nSuccess\n1827: 676440007570247681\nSuccess\n1828: 676430933382295552\nSuccess\n1829: 676263575653122048\nSuccess\n1830: 676237365392908289\nSuccess\n1831: 676219687039057920\nSuccess\n1832: 676215927814406144\nSuccess\n1833: 676191832485810177\nSuccess\n1834: 676146341966438401\nSuccess\n1835: 676121918416756736\nSuccess\n1836: 676101918813499392\nSuccess\n1837: 676098748976615425\nSuccess\n1838: 676089483918516224\nSuccess\n1839: 675898130735476737\nSuccess\n1840: 675891555769696257\nSuccess\n1841: 675888385639251968\nSuccess\n1842: 675878199931371520\nSuccess\n1843: 675870721063669760\nSuccess\n1844: 675853064436391936\nSuccess\n1845: 675849018447167488\nSuccess\n1846: 675845657354215424\nSuccess\n1847: 675822767435051008\nSuccess\n1848: 675820929667219457\nSuccess\n1849: 675798442703122432\nSuccess\n1850: 675781562965868544\nSuccess\n1851: 675740360753160193\nSuccess\n1852: 675710890956750848\nSuccess\n1853: 675707330206547968\nSuccess\n1854: 675706639471788032\nSuccess\n1855: 675534494439489536\nSuccess\n1856: 675531475945709568\nSuccess\n1857: 675522403582218240\nSuccess\n1858: 675517828909424640\nSuccess\n1859: 675501075957489664\nSuccess\n1860: 675497103322386432\nSuccess\n1861: 675489971617296384\nSuccess\n1862: 675483430902214656\nSuccess\n1863: 675432746517426176\nSuccess\n1864: 675372240448454658\nSuccess\n1865: 675362609739206656\nSuccess\n1866: 675354435921575936\nSuccess\n1867: 675349384339542016\nSuccess\n1868: 675334060156301312\nSuccess\n1869: 675166823650848770\nSuccess\n1870: 675153376133427200\nSuccess\n1871: 675149409102012420\nSuccess\n1872: 675147105808306176\nSuccess\n1873: 675146535592706048\nSuccess\n1874: 675145476954566656\nSuccess\n1875: 675135153782571009\nSuccess\n1876: 675113801096802304\nSuccess\n1877: 675111688094527488\nSuccess\n1878: 675109292475830276\nSuccess\n1879: 675047298674663426\nSuccess\n1880: 675015141583413248\nSuccess\n1881: 675006312288268288\nSuccess\n1882: 675003128568291329\nSuccess\n1883: 674999807681908736\nSuccess\n1884: 674805413498527744\nSuccess\n1885: 674800520222154752\nSuccess\n1886: 674793399141146624\nSuccess\n1887: 674790488185167872\nSuccess\n1888: 674788554665512960\nSuccess\n1889: 674781762103414784\nSuccess\n1890: 674774481756377088\nSuccess\n1891: 674767892831932416\nSuccess\n1892: 674764817387900928\nSuccess\n1893: 674754018082705410\nSuccess\n1894: 674752233200820224\nSuccess\n1895: 674743008475090944\nSuccess\n1896: 674742531037511680\nSuccess\n1897: 674739953134403584\nSuccess\n1898: 674737130913071104\nSuccess\n1899: 674690135443775488\nSuccess\n1900: 674670581682434048\nSuccess\n1901: 674664755118911488\nSuccess\n1902: 674646392044941312\nSuccess\n1903: 674644256330530816\nSuccess\n1904: 674638615994089473\nSuccess\n1905: 674632714662858753\nSuccess\n1906: 674606911342424069\nSuccess\n1907: 674468880899788800\nSuccess\n1908: 674447403907457024\nSuccess\n1909: 674436901579923456\nSuccess\n1910: 674422304705744896\nSuccess\n1911: 674416750885273600\nSuccess\n1912: 674410619106390016\nSuccess\n1913: 674394782723014656\nSuccess\n1914: 674372068062928900\nSuccess\n1915: 674330906434379776\nSuccess\n1916: 674318007229923329\nSuccess\n1917: 674307341513269249\nSuccess\n1918: 674291837063053312\nSuccess\n1919: 674271431610523648\nSuccess\n1920: 674269164442398721\nSuccess\n1921: 674265582246694913\nSuccess\n1922: 674262580978937856\nSuccess\n1923: 674255168825880576\nSuccess\n1924: 674082852460433408\nSuccess\n1925: 674075285688614912\nSuccess\n1926: 674063288070742018\nSuccess\n1927: 674053186244734976\nSuccess\n1928: 674051556661161984\nSuccess\n1929: 674045139690631169\nSuccess\n1930: 674042553264685056\nSuccess\n1931: 674038233588723717\nSuccess\n1932: 674036086168010753\nSuccess\n1933: 674024893172875264\nSuccess\n1934: 674019345211760640\nSuccess\n1935: 674014384960745472\nSuccess\n1936: 674008982932058114\nSuccess\n1937: 673956914389192708\nSuccess\n1938: 673919437611909120\nSuccess\n1939: 673906403526995968\nSuccess\n1940: 673887867907739649\nSuccess\n1941: 673716320723169284\nSuccess\n1942: 673715861853720576\nSuccess\n1943: 673711475735838725\nSuccess\n1944: 673709992831262724\nSuccess\n1945: 673708611235921920\nSuccess\n1946: 673707060090052608\nSuccess\n1947: 673705679337693185\nSuccess\n1948: 673700254269775872\nSuccess\n1949: 673697980713705472\nSuccess\n1950: 673689733134946305\nSuccess\n1951: 673688752737402881\nSuccess\n1952: 673686845050527744\nSuccess\n1953: 673680198160809984\nSuccess\n1954: 673662677122719744\nSuccess\n1955: 673656262056419329\nSuccess\n1956: 673636718965334016\nSuccess\n1957: 673612854080196609\nSuccess\n1958: 673583129559498752\nSuccess\n1959: 673580926094458881\nSuccess\n1960: 673576835670777856\nSuccess\n1961: 673363615379013632\nSuccess\n1962: 673359818736984064\nSuccess\n1963: 673355879178194945\nSuccess\n1964: 673352124999274496\nSuccess\n1965: 673350198937153538\nSuccess\n1966: 673345638550134785\nSuccess\n1967: 673343217010679808\nSuccess\n1968: 673342308415348736\nSuccess\n1969: 673320132811366400\nSuccess\n1970: 673317986296586240\nSuccess\n1971: 673295268553605120\nSuccess\n1972: 673270968295534593\nSuccess\n1973: 673240798075449344\nSuccess\n1974: 673213039743795200\nSuccess\n1975: 673148804208660480\nSuccess\n1976: 672997845381865473\nSuccess\n1977: 672995267319328768\nSuccess\n1978: 672988786805112832\nSuccess\n1979: 672984142909456390\nSuccess\n1980: 672980819271634944\nSuccess\n1981: 672975131468300288\nSuccess\n1982: 672970152493887488\nSuccess\n1983: 672968025906282496\nSuccess\n1984: 672964561327235073\nSuccess\n1985: 672902681409806336\nSuccess\n1986: 672898206762672129\nSuccess\n1987: 672884426393653248\nSuccess\n1988: 672877615439593473\nSuccess\n1989: 672834301050937345\nSuccess\n1990: 672828477930868736\nSuccess\n1991: 672640509974827008\nSuccess\n1992: 672622327801233409\nSuccess\n1993: 672614745925664768\nSuccess\n1994: 672609152938721280\nSuccess\n1995: 672604026190569472\nSuccess\n1996: 672594978741354496\nSuccess\n1997: 672591762242805761\nSuccess\n1998: 672591271085670400\nSuccess\n1999: 672538107540070400\nSuccess\n2000: 672523490734551040\nSuccess\n2001: 672488522314567680\nSuccess\n2002: 672482722825261057\nSuccess\n2003: 672481316919734272\nSuccess\n2004: 672475084225949696\nSuccess\n2005: 672466075045466113\nSuccess\n2006: 672272411274932228\nSuccess\n2007: 672267570918129665\nSuccess\n2008: 672264251789176834\nSuccess\n2009: 672256522047614977\nSuccess\n2010: 672254177670729728\nSuccess\n2011: 672248013293752320\nSuccess\n2012: 672245253877968896\nSuccess\n2013: 672239279297454080\nSuccess\n2014: 672231046314901505\nSuccess\n2015: 672222792075620352\nSuccess\n2016: 672205392827572224\nSuccess\n2017: 672169685991993344\nSuccess\n2018: 672160042234327040\nSuccess\n2019: 672139350159835138\nSuccess\n2020: 672125275208069120\nSuccess\n2021: 672095186491711488\nSuccess\n2022: 672082170312290304\nSuccess\n2023: 672068090318987265\nSuccess\n2024: 671896809300709376\nSuccess\n2025: 671891728106971137\nSuccess\n2026: 671882082306625538\nSuccess\n2027: 671879137494245376\nSuccess\n2028: 671874878652489728\nSuccess\n2029: 671866342182637568\nSuccess\n2030: 671855973984772097\nSuccess\n2031: 671789708968640512\nSuccess\n2032: 671768281401958400\nSuccess\n2033: 671763349865160704\nSuccess\n2034: 671744970634719232\nSuccess\n2035: 671743150407421952\nSuccess\n2036: 671735591348891648\nSuccess\n2037: 671729906628341761\nSuccess\n2038: 671561002136281088\nSuccess\n2039: 671550332464455680\nSuccess\n2040: 671547767500775424\nSuccess\n2041: 671544874165002241\nSuccess\n2042: 671542985629241344\nSuccess\n2043: 671538301157904385\nSuccess\n2044: 671536543010570240\nSuccess\n2045: 671533943490011136\nSuccess\n2046: 671528761649688577\nSuccess\n2047: 671520732782923777\nSuccess\n2048: 671518598289059840\nSuccess\n2049: 671511350426865664\nSuccess\n2050: 671504605491109889\nSuccess\n2051: 671497587707535361\nSuccess\n2052: 671488513339211776\nSuccess\n2053: 671486386088865792\nSuccess\n2054: 671485057807351808\nSuccess\n2055: 671390180817915904\nSuccess\n2056: 671362598324076544\nSuccess\n2057: 671357843010908160\nSuccess\n2058: 671355857343524864\nSuccess\n2059: 671347597085433856\nSuccess\n2060: 671186162933985280\nSuccess\n2061: 671182547775299584\nSuccess\n2062: 671166507850801152\nSuccess\n2063: 671163268581498880\nSuccess\n2064: 671159727754231808\nSuccess\n2065: 671154572044468225\nSuccess\n2066: 671151324042559489\nSuccess\n2067: 671147085991960577\nSuccess\n2068: 671141549288370177\nSuccess\n2069: 671138694582165504\nSuccess\n2070: 671134062904504320\nSuccess\n2071: 671122204919246848\nSuccess\n2072: 671115716440031232\nSuccess\n2073: 671109016219725825\nSuccess\n2074: 670995969505435648\nSuccess\n2075: 670842764863651840\nSuccess\n2076: 670840546554966016\nSuccess\n2077: 670838202509447168\nSuccess\n2078: 670833812859932673\nSuccess\n2079: 670832455012716544\nSuccess\n2080: 670826280409919488\nSuccess\n2081: 670823764196741120\nSuccess\n2082: 670822709593571328\nSuccess\n2083: 670815497391357952\nSuccess\n2084: 670811965569282048\nSuccess\n2085: 670807719151067136\nSuccess\n2086: 670804601705242624\nSuccess\n2087: 670803562457407488\nSuccess\n2088: 670797304698376195\nSuccess\n2089: 670792680469889025\nSuccess\n2090: 670789397210615808\nSuccess\n2091: 670786190031921152\nSuccess\n2092: 670783437142401025\nSuccess\n2093: 670782429121134593\nSuccess\n2094: 670780561024270336\nSuccess\n2095: 670778058496974848\nSuccess\n2096: 670764103623966721\nSuccess\n2097: 670755717859713024\nSuccess\n2098: 670733412878163972\nSuccess\n2099: 670727704916926465\nSuccess\n2100: 670717338665226240\nSuccess\n2101: 670704688707301377\nSuccess\n2102: 670691627984359425\nSuccess\n2103: 670679630144274432\nSuccess\n2104: 670676092097810432\nSuccess\n2105: 670668383499735048\nSuccess\n2106: 670474236058800128\nSuccess\n2107: 670468609693655041\nSuccess\n2108: 670465786746662913\nSuccess\n2109: 670452855871037440\nSuccess\n2110: 670449342516494336\nSuccess\n2111: 670444955656130560\nSuccess\n2112: 670442337873600512\nSuccess\n2113: 670435821946826752\nSuccess\n2114: 670434127938719744\nSuccess\n2115: 670433248821026816\nSuccess\n2116: 670428280563085312\nSuccess\n2117: 670427002554466305\nSuccess\n2118: 670421925039075328\nSuccess\n2119: 670420569653809152\nSuccess\n2120: 670417414769758208\nSuccess\n2121: 670411370698022913\nSuccess\n2122: 670408998013820928\nSuccess\n2123: 670403879788544000\nSuccess\n2124: 670385711116361728\nSuccess\n2125: 670374371102445568\nSuccess\n2126: 670361874861563904\nSuccess\n2127: 670338931251150849\nSuccess\n2128: 670319130621435904\nSuccess\n2129: 670303360680108032\nSuccess\n2130: 670290420111441920\nSuccess\n2131: 670093938074779648\nSuccess\n2132: 670086499208155136\nSuccess\n2133: 670079681849372674\nSuccess\n2134: 670073503555706880\nSuccess\n2135: 670069087419133954\nSuccess\n2136: 670061506722140161\nSuccess\n2137: 670055038660800512\nSuccess\n2138: 670046952931721218\nSuccess\n2139: 670040295598354432\nSuccess\n2140: 670037189829525505\nSuccess\n2141: 670003130994700288\nSuccess\n2142: 669993076832759809\nSuccess\n2143: 669972011175813120\nSuccess\n2144: 669970042633789440\nSuccess\n2145: 669942763794931712\nSuccess\n2146: 669926384437997569\nSuccess\n2147: 669923323644657664\nSuccess\n2148: 669753178989142016\nSuccess\n2149: 669749430875258880\nSuccess\n2150: 669684865554620416\nSuccess\n2151: 669683899023405056\nSuccess\n2152: 669682095984410625\nSuccess\n2153: 669680153564442624\nSuccess\n2154: 669661792646373376\nSuccess\n2155: 669625907762618368\nSuccess\n2156: 669603084620980224\nSuccess\n2157: 669597912108789760\nSuccess\n2158: 669583744538451968\nSuccess\n2159: 669573570759163904\nSuccess\n2160: 669571471778410496\nSuccess\n2161: 669567591774625800\nSuccess\n2162: 669564461267722241\nSuccess\n2163: 669393256313184256\nSuccess\n2164: 669375718304980992\nSuccess\n2165: 669371483794317312\nSuccess\n2166: 669367896104181761\nSuccess\n2167: 669363888236994561\nSuccess\n2168: 669359674819481600\nSuccess\n2169: 669354382627049472\nSuccess\n2170: 669353438988365824\nSuccess\n2171: 669351434509529089\nSuccess\n2172: 669328503091937280\nSuccess\n2173: 669327207240699904\nSuccess\n2174: 669324657376567296\nSuccess\n2175: 669216679721873412\nSuccess\n2176: 669214165781868544\nSuccess\n2177: 669203728096960512\nSuccess\n2178: 669037058363662336\nSuccess\n2179: 669015743032369152\nSuccess\n2180: 669006782128353280\nSuccess\n2181: 669000397445533696\nSuccess\n2182: 668994913074286592\nSuccess\n2183: 668992363537309700\nSuccess\n2184: 668989615043424256\nSuccess\n2185: 668988183816871936\nSuccess\n2186: 668986018524233728\nSuccess\n2187: 668981893510119424\nSuccess\n2188: 668979806671884288\nSuccess\n2189: 668975677807423489\nSuccess\n2190: 668967877119254528\nSuccess\n2191: 668960084974809088\nSuccess\n2192: 668955713004314625\nSuccess\n2193: 668932921458302977\nSuccess\n2194: 668902994700836864\nSuccess\n2195: 668892474547511297\nSuccess\n2196: 668872652652679168\nSuccess\n2197: 668852170888998912\nSuccess\n2198: 668826086256599040\nSuccess\n2199: 668815180734689280\nSuccess\n2200: 668779399630725120\nSuccess\n2201: 668655139528511488\nSuccess\n2202: 668645506898350081\nSuccess\n2203: 668643542311546881\nSuccess\n2204: 668641109086707712\nSuccess\n2205: 668636665813057536\nSuccess\n2206: 668633411083464705\nSuccess\n2207: 668631377374486528\nSuccess\n2208: 668627278264475648\nSuccess\n2209: 668625577880875008\nSuccess\n2210: 668623201287675904\nSuccess\n2211: 668620235289837568\nSuccess\n2212: 668614819948453888\nSuccess\n2213: 668587383441514497\nSuccess\n2214: 668567822092664832\nSuccess\n2215: 668544745690562560\nSuccess\n2216: 668542336805281792\nSuccess\n2217: 668537837512433665\nSuccess\n2218: 668528771708952576\nSuccess\n2219: 668507509523615744\nSuccess\n2220: 668496999348633600\nSuccess\n2221: 668484198282485761\nSuccess\n2222: 668480044826800133\nSuccess\n2223: 668466899341221888\nSuccess\n2224: 668297328638447616\nSuccess\n2225: 668291999406125056\nSuccess\n2226: 668286279830867968\nSuccess\n2227: 668274247790391296\nSuccess\n2228: 668268907921326080\nSuccess\n2229: 668256321989451776\nSuccess\n2230: 668248472370458624\nSuccess\n2231: 668237644992782336\nSuccess\n2232: 668226093875376128\nSuccess\n2233: 668221241640230912\nSuccess\n2234: 668204964695683073\nSuccess\n2235: 668190681446379520\nSuccess\n2236: 668171859951755264\nSuccess\n2237: 668154635664932864\nSuccess\n2238: 668142349051129856\nSuccess\n2239: 668113020489474048\nSuccess\n2240: 667937095915278337\nSuccess\n2241: 667924896115245057\nSuccess\n2242: 667915453470232577\nSuccess\n2243: 667911425562669056\nSuccess\n2244: 667902449697558528\nSuccess\n2245: 667886921285246976\nSuccess\n2246: 667885044254572545\nSuccess\n2247: 667878741721415682\nSuccess\n2248: 667873844930215936\nSuccess\n2249: 667866724293877760\nSuccess\n2250: 667861340749471744\nSuccess\n2251: 667832474953625600\nSuccess\n2252: 667806454573760512\nSuccess\n2253: 667801013445750784\nSuccess\n2254: 667793409583771648\nSuccess\n2255: 667782464991965184\nSuccess\n2256: 667773195014021121\nSuccess\n2257: 667766675769573376\nSuccess\n2258: 667728196545200128\nSuccess\n2259: 667724302356258817\nSuccess\n2260: 667550904950915073\nSuccess\n2261: 667550882905632768\nSuccess\n2262: 667549055577362432\nSuccess\n2263: 667546741521195010\nSuccess\n2264: 667544320556335104\nSuccess\n2265: 667538891197542400\nSuccess\n2266: 667534815156183040\nSuccess\n2267: 667530908589760512\nSuccess\n2268: 667524857454854144\nSuccess\n2269: 667517642048163840\nSuccess\n2270: 667509364010450944\nSuccess\n2271: 667502640335572993\nSuccess\n2272: 667495797102141441\nSuccess\n2273: 667491009379606528\nSuccess\n2274: 667470559035432960\nSuccess\n2275: 667455448082227200\nSuccess\n2276: 667453023279554560\nSuccess\n2277: 667443425659232256\nSuccess\n2278: 667437278097252352\nSuccess\n2279: 667435689202614272\nSuccess\n2280: 667405339315146752\nSuccess\n2281: 667393430834667520\nSuccess\n2282: 667369227918143488\nSuccess\n2283: 667211855547486208\nSuccess\n2284: 667200525029539841\nSuccess\n2285: 667192066997374976\nSuccess\n2286: 667188689915760640\nSuccess\n2287: 667182792070062081\nSuccess\n2288: 667177989038297088\nSuccess\n2289: 667176164155375616\nSuccess\n2290: 667174963120574464\nSuccess\n2291: 667171260800061440\nSuccess\n2292: 667165590075940865\nSuccess\n2293: 667160273090932737\nSuccess\n2294: 667152164079423490\nSuccess\n2295: 667138269671505920\nSuccess\n2296: 667119796878725120\nSuccess\n2297: 667090893657276420\nSuccess\n2298: 667073648344346624\nSuccess\n2299: 667070482143944705\nSuccess\n2300: 667065535570550784\nSuccess\n2301: 667062181243039745\nSuccess\n2302: 667044094246576128\nSuccess\n2303: 667012601033924608\nSuccess\n2304: 666996132027977728\nSuccess\n2305: 666983947667116034\nSuccess\n2306: 666837028449972224\nSuccess\n2307: 666835007768551424\nSuccess\n2308: 666826780179869698\nSuccess\n2309: 666817836334096384\nSuccess\n2310: 666804364988780544\nSuccess\n2311: 666786068205871104\nSuccess\n2312: 666781792255496192\nSuccess\n2313: 666776908487630848\nSuccess\n2314: 666739327293083650\nSuccess\n2315: 666701168228331520\nSuccess\n2316: 666691418707132416\nSuccess\n2317: 666649482315059201\nSuccess\n2318: 666644823164719104\nSuccess\n2319: 666454714377183233\nSuccess\n2320: 666447344410484738\nSuccess\n2321: 666437273139982337\nSuccess\n2322: 666435652385423360\nSuccess\n2323: 666430724426358785\nSuccess\n2324: 666428276349472768\nSuccess\n2325: 666421158376562688\nSuccess\n2326: 666418789513326592\nSuccess\n2327: 666411507551481857\nSuccess\n2328: 666407126856765440\nSuccess\n2329: 666396247373291520\nSuccess\n2330: 666373753744588802\nSuccess\n2331: 666362758909284353\nSuccess\n2332: 666353288456101888\nSuccess\n2333: 666345417576210432\nSuccess\n2334: 666337882303524864\nSuccess\n2335: 666293911632134144\nSuccess\n2336: 666287406224695296\nSuccess\n2337: 666273097616637952\nSuccess\n2338: 666268910803644416\nSuccess\n2339: 666104133288665088\nSuccess\n2340: 666102155909144576\nSuccess\n2341: 666099513787052032\nSuccess\n2342: 666094000022159362\nSuccess\n2343: 666082916733198337\nSuccess\n2344: 666073100786774016\nSuccess\n2345: 666071193221509120\nSuccess\n2346: 666063827256086533\nSuccess\n2347: 666058600524156928\nSuccess\n2348: 666057090499244032\nSuccess\n2349: 666055525042405380\nSuccess\n2350: 666051853826850816\nSuccess\n2351: 666050758794694657\nSuccess\n2352: 666049248165822465\nSuccess\n2353: 666044226329800704\nSuccess\n2354: 666033412701032449\nSuccess\n2355: 666029285002620928\nSuccess\n2356: 666020888022790149\nSuccess\n2027.4271446\n{888202515573088257: TweepError([{'code': 144, 'message': 'No status found with that ID.'}],), 873697596434513921: TweepError([{'code': 144, 'message': 'No status found with that ID.'}],), 872668790621863937: TweepError([{'code': 144, 'message': 'No status found with that ID.'}],), 872261713294495745: TweepError([{'code': 144, 'message': 'No status found with that ID.'}],), 869988702071779329: TweepError([{'code': 144, 'message': 'No status found with that ID.'}],), 866816280283807744: TweepError([{'code': 144, 'message': 'No status found with that ID.'}],), 861769973181624320: TweepError([{'code': 144, 'message': 'No status found with that ID.'}],), 856602993587888130: TweepError([{'code': 144, 'message': 'No status found with that ID.'}],), 851953902622658560: TweepError([{'code': 144, 'message': 'No status found with that ID.'}],), 845459076796616705: TweepError([{'code': 144, 'message': 'No status found with that ID.'}],), 844704788403113984: TweepError([{'code': 144, 'message': 'No status found with that ID.'}],), 842892208864923648: TweepError([{'code': 144, 'message': 'No status found with that ID.'}],), 837366284874571778: TweepError([{'code': 144, 'message': 'No status found with that ID.'}],), 837012587749474308: TweepError([{'code': 144, 'message': 'No status found with that ID.'}],), 829374341691346946: TweepError([{'code': 144, 'message': 'No status found with that ID.'}],), 827228250799742977: TweepError([{'code': 144, 'message': 'No status found with that ID.'}],), 812747805718642688: TweepError([{'code': 144, 'message': 'No status found with that ID.'}],), 802247111496568832: TweepError([{'code': 144, 'message': 'No status found with that ID.'}],), 779123168116150273: TweepError([{'code': 144, 'message': 'No status found with that ID.'}],), 775096608509886464: TweepError([{'code': 144, 'message': 'No status found with that ID.'}],), 771004394259247104: TweepError([{'code': 179, 'message': 'Sorry, you are not authorized to see this status.'}],), 770743923962707968: TweepError([{'code': 144, 'message': 'No status found with that ID.'}],), 759566828574212096: TweepError([{'code': 144, 'message': 'No status found with that ID.'}],), 754011816964026368: TweepError([{'code': 144, 'message': 'No status found with that ID.'}],), 680055455951884288: TweepError([{'code': 144, 'message': 'No status found with that ID.'}],)}\n"
    }
   ],
   "source": [
    "# Query Twitter's API for JSON data for each tweet ID in the Twitter archive\n",
    "count = 0\n",
    "fails_dict = {}\n",
    "start = timer()\n",
    "# Save each tweet's returned JSON as a new line in a .txt file\n",
    "with open('tweet_json.txt', 'w') as outfile:\n",
    "    # This loop will likely take 20-30 minutes to run because of Twitter's rate limit\n",
    "    for tweet_id in tweet_ids:\n",
    "        count += 1\n",
    "        print(str(count) + \": \" + str(tweet_id))\n",
    "        try:\n",
    "            tweet = api.get_status(tweet_id, tweet_mode='extended')\n",
    "            print(\"Success\")\n",
    "            json.dump(tweet._json, outfile)\n",
    "            outfile.write('\\n')\n",
    "        except tweepy.TweepError as e:\n",
    "            print(\"Fail\")\n",
    "            fails_dict[tweet_id] = e\n",
    "            pass\n",
    "end = timer()\n",
    "print(end - start)\n",
    "print(fails_dict)"
   ]
  },
  {
   "cell_type": "code",
   "execution_count": 9,
   "metadata": {},
   "outputs": [],
   "source": [
    "# Given that the txt file has one json file per line, we read line by line and append to a list of json files\n",
    "with open('tweet_json.txt') as json_file:\n",
    "    object_list = []\n",
    "    for line in json_file.readlines():\n",
    "        object_list.append(json.loads(line))"
   ]
  },
  {
   "cell_type": "code",
   "execution_count": 10,
   "metadata": {},
   "outputs": [
    {
     "output_type": "execute_result",
     "data": {
      "text/plain": "{'created_at': 'Tue Aug 01 16:23:56 +0000 2017',\n 'id': 892420643555336193,\n 'id_str': '892420643555336193',\n 'full_text': \"This is Phineas. He's a mystical boy. Only ever appears in the hole of a donut. 13/10 https://t.co/MgUWQ76dJU\",\n 'truncated': False,\n 'display_text_range': [0, 85],\n 'entities': {'hashtags': [],\n  'symbols': [],\n  'user_mentions': [],\n  'urls': [],\n  'media': [{'id': 892420639486877696,\n    'id_str': '892420639486877696',\n    'indices': [86, 109],\n    'media_url': 'http://pbs.twimg.com/media/DGKD1-bXoAAIAUK.jpg',\n    'media_url_https': 'https://pbs.twimg.com/media/DGKD1-bXoAAIAUK.jpg',\n    'url': 'https://t.co/MgUWQ76dJU',\n    'display_url': 'pic.twitter.com/MgUWQ76dJU',\n    'expanded_url': 'https://twitter.com/dog_rates/status/892420643555336193/photo/1',\n    'type': 'photo',\n    'sizes': {'thumb': {'w': 150, 'h': 150, 'resize': 'crop'},\n     'medium': {'w': 540, 'h': 528, 'resize': 'fit'},\n     'small': {'w': 540, 'h': 528, 'resize': 'fit'},\n     'large': {'w': 540, 'h': 528, 'resize': 'fit'}}}]},\n 'extended_entities': {'media': [{'id': 892420639486877696,\n    'id_str': '892420639486877696',\n    'indices': [86, 109],\n    'media_url': 'http://pbs.twimg.com/media/DGKD1-bXoAAIAUK.jpg',\n    'media_url_https': 'https://pbs.twimg.com/media/DGKD1-bXoAAIAUK.jpg',\n    'url': 'https://t.co/MgUWQ76dJU',\n    'display_url': 'pic.twitter.com/MgUWQ76dJU',\n    'expanded_url': 'https://twitter.com/dog_rates/status/892420643555336193/photo/1',\n    'type': 'photo',\n    'sizes': {'thumb': {'w': 150, 'h': 150, 'resize': 'crop'},\n     'medium': {'w': 540, 'h': 528, 'resize': 'fit'},\n     'small': {'w': 540, 'h': 528, 'resize': 'fit'},\n     'large': {'w': 540, 'h': 528, 'resize': 'fit'}}}]},\n 'source': '<a href=\"http://twitter.com/download/iphone\" rel=\"nofollow\">Twitter for iPhone</a>',\n 'in_reply_to_status_id': None,\n 'in_reply_to_status_id_str': None,\n 'in_reply_to_user_id': None,\n 'in_reply_to_user_id_str': None,\n 'in_reply_to_screen_name': None,\n 'user': {'id': 4196983835,\n  'id_str': '4196983835',\n  'name': 'WeRateDogs®',\n  'screen_name': 'dog_rates',\n  'location': '「 DM YOUR DOGS 」',\n  'description': 'Your Only Source For Professional Dog Ratings Instagram and Facebook ➪ WeRateDogs partnerships@weratedogs.com ⠀⠀⠀⠀⠀⠀⠀⠀⠀⠀⠀⠀',\n  'url': 'https://t.co/Wrvtpnv7JV',\n  'entities': {'url': {'urls': [{'url': 'https://t.co/Wrvtpnv7JV',\n      'expanded_url': 'https://blacklivesmatters.carrd.co',\n      'display_url': 'blacklivesmatters.carrd.co',\n      'indices': [0, 23]}]},\n   'description': {'urls': []}},\n  'protected': False,\n  'followers_count': 8811371,\n  'friends_count': 17,\n  'listed_count': 5677,\n  'created_at': 'Sun Nov 15 21:41:29 +0000 2015',\n  'favourites_count': 145862,\n  'utc_offset': None,\n  'time_zone': None,\n  'geo_enabled': True,\n  'verified': True,\n  'statuses_count': 12530,\n  'lang': None,\n  'contributors_enabled': False,\n  'is_translator': False,\n  'is_translation_enabled': False,\n  'profile_background_color': '000000',\n  'profile_background_image_url': 'http://abs.twimg.com/images/themes/theme1/bg.png',\n  'profile_background_image_url_https': 'https://abs.twimg.com/images/themes/theme1/bg.png',\n  'profile_background_tile': False,\n  'profile_image_url': 'http://pbs.twimg.com/profile_images/1267972589722296320/XBr04M6J_normal.jpg',\n  'profile_image_url_https': 'https://pbs.twimg.com/profile_images/1267972589722296320/XBr04M6J_normal.jpg',\n  'profile_banner_url': 'https://pbs.twimg.com/profile_banners/4196983835/1591077312',\n  'profile_link_color': 'F5ABB5',\n  'profile_sidebar_border_color': '000000',\n  'profile_sidebar_fill_color': '000000',\n  'profile_text_color': '000000',\n  'profile_use_background_image': False,\n  'has_extended_profile': False,\n  'default_profile': False,\n  'default_profile_image': False,\n  'following': False,\n  'follow_request_sent': False,\n  'notifications': False,\n  'translator_type': 'none'},\n 'geo': None,\n 'coordinates': None,\n 'place': None,\n 'contributors': None,\n 'is_quote_status': False,\n 'retweet_count': 7609,\n 'favorite_count': 35894,\n 'favorited': False,\n 'retweeted': False,\n 'possibly_sensitive': False,\n 'possibly_sensitive_appealable': False,\n 'lang': 'en'}"
     },
     "metadata": {},
     "execution_count": 10
    }
   ],
   "source": [
    "object_list[0] # Inspecting one element to see if it's correctly outputted"
   ]
  },
  {
   "cell_type": "code",
   "execution_count": 11,
   "metadata": {},
   "outputs": [],
   "source": [
    "ids = [] # Creating empty lists for the info we want to get out of each json object\n",
    "retweet_count = []\n",
    "favorite_count = []\n",
    "\n",
    "for item in object_list: # Looping through the objects and adding the required info to the lists\n",
    "    ids.append(item['id'])\n",
    "    retweet_count.append(item['retweet_count'])\n",
    "    favorite_count.append(item['favorite_count'])"
   ]
  },
  {
   "cell_type": "code",
   "execution_count": 12,
   "metadata": {},
   "outputs": [],
   "source": [
    "tweets_api_df = pd.DataFrame(columns=['id','retweet_count','favorite_count']) # Creating an empty dataframe with our intended columns"
   ]
  },
  {
   "cell_type": "code",
   "execution_count": 13,
   "metadata": {},
   "outputs": [
    {
     "output_type": "execute_result",
     "data": {
      "text/plain": "Empty DataFrame\nColumns: [id, retweet_count, favorite_count]\nIndex: []",
      "text/html": "<div>\n<style scoped>\n    .dataframe tbody tr th:only-of-type {\n        vertical-align: middle;\n    }\n\n    .dataframe tbody tr th {\n        vertical-align: top;\n    }\n\n    .dataframe thead th {\n        text-align: right;\n    }\n</style>\n<table border=\"1\" class=\"dataframe\">\n  <thead>\n    <tr style=\"text-align: right;\">\n      <th></th>\n      <th>id</th>\n      <th>retweet_count</th>\n      <th>favorite_count</th>\n    </tr>\n  </thead>\n  <tbody>\n  </tbody>\n</table>\n</div>"
     },
     "metadata": {},
     "execution_count": 13
    }
   ],
   "source": [
    "tweets_api_df # As expected"
   ]
  },
  {
   "cell_type": "code",
   "execution_count": 14,
   "metadata": {},
   "outputs": [],
   "source": [
    "tweets_api_df['id'] = ids # Adding the lists to a separate dataframe\n",
    "tweets_api_df['retweet_count'] = retweet_count\n",
    "tweets_api_df['favorite_count'] = favorite_count"
   ]
  },
  {
   "cell_type": "markdown",
   "metadata": {},
   "source": [
    "#### We have all the dataframes now. We need to start inspecting the data: assess, clean then test"
   ]
  },
  {
   "cell_type": "code",
   "execution_count": 36,
   "metadata": {},
   "outputs": [],
   "source": [
    "pd.set_option('display.max_colwidth', -1)"
   ]
  },
  {
   "cell_type": "code",
   "execution_count": 37,
   "metadata": {},
   "outputs": [
    {
     "output_type": "execute_result",
     "data": {
      "text/plain": "             tweet_id  in_reply_to_status_id  in_reply_to_user_id  \\\n0  892420643555336193 NaN                    NaN                    \n1  892177421306343426 NaN                    NaN                    \n2  891815181378084864 NaN                    NaN                    \n3  891689557279858688 NaN                    NaN                    \n4  891327558926688256 NaN                    NaN                    \n\n                   timestamp  \\\n0  2017-08-01 16:23:56 +0000   \n1  2017-08-01 00:17:27 +0000   \n2  2017-07-31 00:18:03 +0000   \n3  2017-07-30 15:58:51 +0000   \n4  2017-07-29 16:00:24 +0000   \n\n                                                                               source  \\\n0  <a href=\"http://twitter.com/download/iphone\" rel=\"nofollow\">Twitter for iPhone</a>   \n1  <a href=\"http://twitter.com/download/iphone\" rel=\"nofollow\">Twitter for iPhone</a>   \n2  <a href=\"http://twitter.com/download/iphone\" rel=\"nofollow\">Twitter for iPhone</a>   \n3  <a href=\"http://twitter.com/download/iphone\" rel=\"nofollow\">Twitter for iPhone</a>   \n4  <a href=\"http://twitter.com/download/iphone\" rel=\"nofollow\">Twitter for iPhone</a>   \n\n                                                                                                                                                                 text  \\\n0  This is Phineas. He's a mystical boy. Only ever appears in the hole of a donut. 13/10 https://t.co/MgUWQ76dJU                                                        \n1  This is Tilly. She's just checking pup on you. Hopes you're doing ok. If not, she's available for pats, snugs, boops, the whole bit. 13/10 https://t.co/0Xxu71qeIV   \n2  This is Archie. He is a rare Norwegian Pouncing Corgo. Lives in the tall grass. You never know when one may strike. 12/10 https://t.co/wUnZnhtVJB                    \n3  This is Darla. She commenced a snooze mid meal. 13/10 happens to the best of us https://t.co/tD36da7qLQ                                                              \n4  This is Franklin. He would like you to stop calling him \"cute.\" He is a very fierce shark and should be respected as such. 12/10 #BarkWeek https://t.co/AtUZn91f7f   \n\n   retweeted_status_id  retweeted_status_user_id retweeted_status_timestamp  \\\n0 NaN                  NaN                        NaN                         \n1 NaN                  NaN                        NaN                         \n2 NaN                  NaN                        NaN                         \n3 NaN                  NaN                        NaN                         \n4 NaN                  NaN                        NaN                         \n\n                                                                                                                     expanded_urls  \\\n0  https://twitter.com/dog_rates/status/892420643555336193/photo/1                                                                   \n1  https://twitter.com/dog_rates/status/892177421306343426/photo/1                                                                   \n2  https://twitter.com/dog_rates/status/891815181378084864/photo/1                                                                   \n3  https://twitter.com/dog_rates/status/891689557279858688/photo/1                                                                   \n4  https://twitter.com/dog_rates/status/891327558926688256/photo/1,https://twitter.com/dog_rates/status/891327558926688256/photo/1   \n\n   rating_numerator  rating_denominator      name doggo floofer pupper puppo  \n0  13                10                  Phineas   None  None    None   None  \n1  13                10                  Tilly     None  None    None   None  \n2  12                10                  Archie    None  None    None   None  \n3  13                10                  Darla     None  None    None   None  \n4  12                10                  Franklin  None  None    None   None  ",
      "text/html": "<div>\n<style scoped>\n    .dataframe tbody tr th:only-of-type {\n        vertical-align: middle;\n    }\n\n    .dataframe tbody tr th {\n        vertical-align: top;\n    }\n\n    .dataframe thead th {\n        text-align: right;\n    }\n</style>\n<table border=\"1\" class=\"dataframe\">\n  <thead>\n    <tr style=\"text-align: right;\">\n      <th></th>\n      <th>tweet_id</th>\n      <th>in_reply_to_status_id</th>\n      <th>in_reply_to_user_id</th>\n      <th>timestamp</th>\n      <th>source</th>\n      <th>text</th>\n      <th>retweeted_status_id</th>\n      <th>retweeted_status_user_id</th>\n      <th>retweeted_status_timestamp</th>\n      <th>expanded_urls</th>\n      <th>rating_numerator</th>\n      <th>rating_denominator</th>\n      <th>name</th>\n      <th>doggo</th>\n      <th>floofer</th>\n      <th>pupper</th>\n      <th>puppo</th>\n    </tr>\n  </thead>\n  <tbody>\n    <tr>\n      <th>0</th>\n      <td>892420643555336193</td>\n      <td>NaN</td>\n      <td>NaN</td>\n      <td>2017-08-01 16:23:56 +0000</td>\n      <td>&lt;a href=\"http://twitter.com/download/iphone\" rel=\"nofollow\"&gt;Twitter for iPhone&lt;/a&gt;</td>\n      <td>This is Phineas. He's a mystical boy. Only ever appears in the hole of a donut. 13/10 https://t.co/MgUWQ76dJU</td>\n      <td>NaN</td>\n      <td>NaN</td>\n      <td>NaN</td>\n      <td>https://twitter.com/dog_rates/status/892420643555336193/photo/1</td>\n      <td>13</td>\n      <td>10</td>\n      <td>Phineas</td>\n      <td>None</td>\n      <td>None</td>\n      <td>None</td>\n      <td>None</td>\n    </tr>\n    <tr>\n      <th>1</th>\n      <td>892177421306343426</td>\n      <td>NaN</td>\n      <td>NaN</td>\n      <td>2017-08-01 00:17:27 +0000</td>\n      <td>&lt;a href=\"http://twitter.com/download/iphone\" rel=\"nofollow\"&gt;Twitter for iPhone&lt;/a&gt;</td>\n      <td>This is Tilly. She's just checking pup on you. Hopes you're doing ok. If not, she's available for pats, snugs, boops, the whole bit. 13/10 https://t.co/0Xxu71qeIV</td>\n      <td>NaN</td>\n      <td>NaN</td>\n      <td>NaN</td>\n      <td>https://twitter.com/dog_rates/status/892177421306343426/photo/1</td>\n      <td>13</td>\n      <td>10</td>\n      <td>Tilly</td>\n      <td>None</td>\n      <td>None</td>\n      <td>None</td>\n      <td>None</td>\n    </tr>\n    <tr>\n      <th>2</th>\n      <td>891815181378084864</td>\n      <td>NaN</td>\n      <td>NaN</td>\n      <td>2017-07-31 00:18:03 +0000</td>\n      <td>&lt;a href=\"http://twitter.com/download/iphone\" rel=\"nofollow\"&gt;Twitter for iPhone&lt;/a&gt;</td>\n      <td>This is Archie. He is a rare Norwegian Pouncing Corgo. Lives in the tall grass. You never know when one may strike. 12/10 https://t.co/wUnZnhtVJB</td>\n      <td>NaN</td>\n      <td>NaN</td>\n      <td>NaN</td>\n      <td>https://twitter.com/dog_rates/status/891815181378084864/photo/1</td>\n      <td>12</td>\n      <td>10</td>\n      <td>Archie</td>\n      <td>None</td>\n      <td>None</td>\n      <td>None</td>\n      <td>None</td>\n    </tr>\n    <tr>\n      <th>3</th>\n      <td>891689557279858688</td>\n      <td>NaN</td>\n      <td>NaN</td>\n      <td>2017-07-30 15:58:51 +0000</td>\n      <td>&lt;a href=\"http://twitter.com/download/iphone\" rel=\"nofollow\"&gt;Twitter for iPhone&lt;/a&gt;</td>\n      <td>This is Darla. She commenced a snooze mid meal. 13/10 happens to the best of us https://t.co/tD36da7qLQ</td>\n      <td>NaN</td>\n      <td>NaN</td>\n      <td>NaN</td>\n      <td>https://twitter.com/dog_rates/status/891689557279858688/photo/1</td>\n      <td>13</td>\n      <td>10</td>\n      <td>Darla</td>\n      <td>None</td>\n      <td>None</td>\n      <td>None</td>\n      <td>None</td>\n    </tr>\n    <tr>\n      <th>4</th>\n      <td>891327558926688256</td>\n      <td>NaN</td>\n      <td>NaN</td>\n      <td>2017-07-29 16:00:24 +0000</td>\n      <td>&lt;a href=\"http://twitter.com/download/iphone\" rel=\"nofollow\"&gt;Twitter for iPhone&lt;/a&gt;</td>\n      <td>This is Franklin. He would like you to stop calling him \"cute.\" He is a very fierce shark and should be respected as such. 12/10 #BarkWeek https://t.co/AtUZn91f7f</td>\n      <td>NaN</td>\n      <td>NaN</td>\n      <td>NaN</td>\n      <td>https://twitter.com/dog_rates/status/891327558926688256/photo/1,https://twitter.com/dog_rates/status/891327558926688256/photo/1</td>\n      <td>12</td>\n      <td>10</td>\n      <td>Franklin</td>\n      <td>None</td>\n      <td>None</td>\n      <td>None</td>\n      <td>None</td>\n    </tr>\n  </tbody>\n</table>\n</div>"
     },
     "metadata": {},
     "execution_count": 37
    }
   ],
   "source": [
    "main_df.head(5)"
   ]
  },
  {
   "cell_type": "code",
   "execution_count": 38,
   "metadata": {},
   "outputs": [
    {
     "output_type": "execute_result",
     "data": {
      "text/plain": "             tweet_id                                          jpg_url  \\\n0  666020888022790149  https://pbs.twimg.com/media/CT4udn0WwAA0aMy.jpg   \n1  666029285002620928  https://pbs.twimg.com/media/CT42GRgUYAA5iDo.jpg   \n2  666033412701032449  https://pbs.twimg.com/media/CT4521TWwAEvMyu.jpg   \n3  666044226329800704  https://pbs.twimg.com/media/CT5Dr8HUEAA-lEu.jpg   \n4  666049248165822465  https://pbs.twimg.com/media/CT5IQmsXIAAKY4A.jpg   \n\n   img_num                      p1   p1_conf  p1_dog                  p2  \\\n0  1        Welsh_springer_spaniel  0.465074  True    collie               \n1  1        redbone                 0.506826  True    miniature_pinscher   \n2  1        German_shepherd         0.596461  True    malinois             \n3  1        Rhodesian_ridgeback     0.408143  True    redbone              \n4  1        miniature_pinscher      0.560311  True    Rottweiler           \n\n    p2_conf  p2_dog                   p3   p3_conf  p3_dog  \n0  0.156665  True    Shetland_sheepdog    0.061428  True    \n1  0.074192  True    Rhodesian_ridgeback  0.072010  True    \n2  0.138584  True    bloodhound           0.116197  True    \n3  0.360687  True    miniature_pinscher   0.222752  True    \n4  0.243682  True    Doberman             0.154629  True    ",
      "text/html": "<div>\n<style scoped>\n    .dataframe tbody tr th:only-of-type {\n        vertical-align: middle;\n    }\n\n    .dataframe tbody tr th {\n        vertical-align: top;\n    }\n\n    .dataframe thead th {\n        text-align: right;\n    }\n</style>\n<table border=\"1\" class=\"dataframe\">\n  <thead>\n    <tr style=\"text-align: right;\">\n      <th></th>\n      <th>tweet_id</th>\n      <th>jpg_url</th>\n      <th>img_num</th>\n      <th>p1</th>\n      <th>p1_conf</th>\n      <th>p1_dog</th>\n      <th>p2</th>\n      <th>p2_conf</th>\n      <th>p2_dog</th>\n      <th>p3</th>\n      <th>p3_conf</th>\n      <th>p3_dog</th>\n    </tr>\n  </thead>\n  <tbody>\n    <tr>\n      <th>0</th>\n      <td>666020888022790149</td>\n      <td>https://pbs.twimg.com/media/CT4udn0WwAA0aMy.jpg</td>\n      <td>1</td>\n      <td>Welsh_springer_spaniel</td>\n      <td>0.465074</td>\n      <td>True</td>\n      <td>collie</td>\n      <td>0.156665</td>\n      <td>True</td>\n      <td>Shetland_sheepdog</td>\n      <td>0.061428</td>\n      <td>True</td>\n    </tr>\n    <tr>\n      <th>1</th>\n      <td>666029285002620928</td>\n      <td>https://pbs.twimg.com/media/CT42GRgUYAA5iDo.jpg</td>\n      <td>1</td>\n      <td>redbone</td>\n      <td>0.506826</td>\n      <td>True</td>\n      <td>miniature_pinscher</td>\n      <td>0.074192</td>\n      <td>True</td>\n      <td>Rhodesian_ridgeback</td>\n      <td>0.072010</td>\n      <td>True</td>\n    </tr>\n    <tr>\n      <th>2</th>\n      <td>666033412701032449</td>\n      <td>https://pbs.twimg.com/media/CT4521TWwAEvMyu.jpg</td>\n      <td>1</td>\n      <td>German_shepherd</td>\n      <td>0.596461</td>\n      <td>True</td>\n      <td>malinois</td>\n      <td>0.138584</td>\n      <td>True</td>\n      <td>bloodhound</td>\n      <td>0.116197</td>\n      <td>True</td>\n    </tr>\n    <tr>\n      <th>3</th>\n      <td>666044226329800704</td>\n      <td>https://pbs.twimg.com/media/CT5Dr8HUEAA-lEu.jpg</td>\n      <td>1</td>\n      <td>Rhodesian_ridgeback</td>\n      <td>0.408143</td>\n      <td>True</td>\n      <td>redbone</td>\n      <td>0.360687</td>\n      <td>True</td>\n      <td>miniature_pinscher</td>\n      <td>0.222752</td>\n      <td>True</td>\n    </tr>\n    <tr>\n      <th>4</th>\n      <td>666049248165822465</td>\n      <td>https://pbs.twimg.com/media/CT5IQmsXIAAKY4A.jpg</td>\n      <td>1</td>\n      <td>miniature_pinscher</td>\n      <td>0.560311</td>\n      <td>True</td>\n      <td>Rottweiler</td>\n      <td>0.243682</td>\n      <td>True</td>\n      <td>Doberman</td>\n      <td>0.154629</td>\n      <td>True</td>\n    </tr>\n  </tbody>\n</table>\n</div>"
     },
     "metadata": {},
     "execution_count": 38
    }
   ],
   "source": [
    "image_predictions.head(5)"
   ]
  },
  {
   "cell_type": "code",
   "execution_count": 39,
   "metadata": {},
   "outputs": [
    {
     "output_type": "execute_result",
     "data": {
      "text/plain": "                   id  retweet_count  favorite_count\n0  892420643555336193  7609           35894         \n1  892177421306343426  5637           30963         \n2  891815181378084864  3730           23301         \n3  891689557279858688  7784           39174         \n4  891327558926688256  8383           37427         ",
      "text/html": "<div>\n<style scoped>\n    .dataframe tbody tr th:only-of-type {\n        vertical-align: middle;\n    }\n\n    .dataframe tbody tr th {\n        vertical-align: top;\n    }\n\n    .dataframe thead th {\n        text-align: right;\n    }\n</style>\n<table border=\"1\" class=\"dataframe\">\n  <thead>\n    <tr style=\"text-align: right;\">\n      <th></th>\n      <th>id</th>\n      <th>retweet_count</th>\n      <th>favorite_count</th>\n    </tr>\n  </thead>\n  <tbody>\n    <tr>\n      <th>0</th>\n      <td>892420643555336193</td>\n      <td>7609</td>\n      <td>35894</td>\n    </tr>\n    <tr>\n      <th>1</th>\n      <td>892177421306343426</td>\n      <td>5637</td>\n      <td>30963</td>\n    </tr>\n    <tr>\n      <th>2</th>\n      <td>891815181378084864</td>\n      <td>3730</td>\n      <td>23301</td>\n    </tr>\n    <tr>\n      <th>3</th>\n      <td>891689557279858688</td>\n      <td>7784</td>\n      <td>39174</td>\n    </tr>\n    <tr>\n      <th>4</th>\n      <td>891327558926688256</td>\n      <td>8383</td>\n      <td>37427</td>\n    </tr>\n  </tbody>\n</table>\n</div>"
     },
     "metadata": {},
     "execution_count": 39
    }
   ],
   "source": [
    "tweets_api_df.head(5)"
   ]
  },
  {
   "cell_type": "code",
   "execution_count": 43,
   "metadata": {
    "tags": []
   },
   "outputs": [
    {
     "output_type": "stream",
     "name": "stdout",
     "text": "<class 'pandas.core.frame.DataFrame'>\nRangeIndex: 2356 entries, 0 to 2355\nData columns (total 17 columns):\n #   Column                      Non-Null Count  Dtype  \n---  ------                      --------------  -----  \n 0   tweet_id                    2356 non-null   int64  \n 1   in_reply_to_status_id       78 non-null     float64\n 2   in_reply_to_user_id         78 non-null     float64\n 3   timestamp                   2356 non-null   object \n 4   source                      2356 non-null   object \n 5   text                        2356 non-null   object \n 6   retweeted_status_id         181 non-null    float64\n 7   retweeted_status_user_id    181 non-null    float64\n 8   retweeted_status_timestamp  181 non-null    object \n 9   expanded_urls               2297 non-null   object \n 10  rating_numerator            2356 non-null   int64  \n 11  rating_denominator          2356 non-null   int64  \n 12  name                        2356 non-null   object \n 13  doggo                       2356 non-null   object \n 14  floofer                     2356 non-null   object \n 15  pupper                      2356 non-null   object \n 16  puppo                       2356 non-null   object \ndtypes: float64(4), int64(3), object(10)\nmemory usage: 313.0+ KB\n"
    }
   ],
   "source": [
    "main_df.info()"
   ]
  },
  {
   "cell_type": "markdown",
   "metadata": {},
   "source": [
    "##### Timestamp should be a datetime column. Lots of unecessary columns that can be dropped. Doggo, floofer, pupper and puppo can be done in one column"
   ]
  },
  {
   "cell_type": "code",
   "execution_count": 44,
   "metadata": {},
   "outputs": [
    {
     "output_type": "execute_result",
     "data": {
      "text/plain": "181"
     },
     "metadata": {},
     "execution_count": 44
    }
   ],
   "source": [
    "# Checking for retweets in the main dataframe\n",
    "len(main_df[main_df.retweeted_status_id.isnull() == False])"
   ]
  },
  {
   "cell_type": "code",
   "execution_count": 45,
   "metadata": {},
   "outputs": [
    {
     "output_type": "execute_result",
     "data": {
      "text/plain": "0      1   \n2      1   \n7      1   \n10     2333\n11     3   \n15     1   \n16     1   \n20     2   \n40     1   \n50     3   \n70     1   \n80     2   \n90     1   \n110    1   \n120    1   \n130    1   \n150    1   \n170    1   \nName: rating_denominator, dtype: int64"
     },
     "metadata": {},
     "execution_count": 45
    }
   ],
   "source": [
    "# Checking for abnormal values in rating_denominator\n",
    "main_df.rating_denominator.value_counts().sort_index()"
   ]
  },
  {
   "cell_type": "code",
   "execution_count": 55,
   "metadata": {},
   "outputs": [
    {
     "output_type": "execute_result",
     "data": {
      "text/plain": "                tweet_id  in_reply_to_status_id  in_reply_to_user_id  \\\n1254  710658690886586372 NaN                    NaN                    \n1843  675853064436391936 NaN                    NaN                    \n\n                      timestamp  \\\n1254  2016-03-18 02:46:49 +0000   \n1843  2015-12-13 01:41:41 +0000   \n\n                                                                                  source  \\\n1254  <a href=\"http://twitter.com/download/iphone\" rel=\"nofollow\">Twitter for iPhone</a>   \n1843  <a href=\"http://twitter.com/download/iphone\" rel=\"nofollow\">Twitter for iPhone</a>   \n\n                                                                                                              text  \\\n1254  Here's a brigade of puppers. All look very prepared for whatever happens next. 80/80 https://t.co/0eb7R1Om12   \n1843  Here we have an entire platoon of puppers. Total score: 88/80 would pet all at once https://t.co/y93p6FLvVw    \n\n      retweeted_status_id  retweeted_status_user_id  \\\n1254 NaN                  NaN                         \n1843 NaN                  NaN                         \n\n     retweeted_status_timestamp  \\\n1254  NaN                         \n1843  NaN                         \n\n                                                                                                                        expanded_urls  \\\n1254  https://twitter.com/dog_rates/status/710658690886586372/photo/1                                                                   \n1843  https://twitter.com/dog_rates/status/675853064436391936/photo/1,https://twitter.com/dog_rates/status/675853064436391936/photo/1   \n\n      rating_numerator  rating_denominator  name doggo floofer pupper puppo  \n1254  80                80                  None  None  None    None   None  \n1843  88                80                  None  None  None    None   None  ",
      "text/html": "<div>\n<style scoped>\n    .dataframe tbody tr th:only-of-type {\n        vertical-align: middle;\n    }\n\n    .dataframe tbody tr th {\n        vertical-align: top;\n    }\n\n    .dataframe thead th {\n        text-align: right;\n    }\n</style>\n<table border=\"1\" class=\"dataframe\">\n  <thead>\n    <tr style=\"text-align: right;\">\n      <th></th>\n      <th>tweet_id</th>\n      <th>in_reply_to_status_id</th>\n      <th>in_reply_to_user_id</th>\n      <th>timestamp</th>\n      <th>source</th>\n      <th>text</th>\n      <th>retweeted_status_id</th>\n      <th>retweeted_status_user_id</th>\n      <th>retweeted_status_timestamp</th>\n      <th>expanded_urls</th>\n      <th>rating_numerator</th>\n      <th>rating_denominator</th>\n      <th>name</th>\n      <th>doggo</th>\n      <th>floofer</th>\n      <th>pupper</th>\n      <th>puppo</th>\n    </tr>\n  </thead>\n  <tbody>\n    <tr>\n      <th>1254</th>\n      <td>710658690886586372</td>\n      <td>NaN</td>\n      <td>NaN</td>\n      <td>2016-03-18 02:46:49 +0000</td>\n      <td>&lt;a href=\"http://twitter.com/download/iphone\" rel=\"nofollow\"&gt;Twitter for iPhone&lt;/a&gt;</td>\n      <td>Here's a brigade of puppers. All look very prepared for whatever happens next. 80/80 https://t.co/0eb7R1Om12</td>\n      <td>NaN</td>\n      <td>NaN</td>\n      <td>NaN</td>\n      <td>https://twitter.com/dog_rates/status/710658690886586372/photo/1</td>\n      <td>80</td>\n      <td>80</td>\n      <td>None</td>\n      <td>None</td>\n      <td>None</td>\n      <td>None</td>\n      <td>None</td>\n    </tr>\n    <tr>\n      <th>1843</th>\n      <td>675853064436391936</td>\n      <td>NaN</td>\n      <td>NaN</td>\n      <td>2015-12-13 01:41:41 +0000</td>\n      <td>&lt;a href=\"http://twitter.com/download/iphone\" rel=\"nofollow\"&gt;Twitter for iPhone&lt;/a&gt;</td>\n      <td>Here we have an entire platoon of puppers. Total score: 88/80 would pet all at once https://t.co/y93p6FLvVw</td>\n      <td>NaN</td>\n      <td>NaN</td>\n      <td>NaN</td>\n      <td>https://twitter.com/dog_rates/status/675853064436391936/photo/1,https://twitter.com/dog_rates/status/675853064436391936/photo/1</td>\n      <td>88</td>\n      <td>80</td>\n      <td>None</td>\n      <td>None</td>\n      <td>None</td>\n      <td>None</td>\n      <td>None</td>\n    </tr>\n  </tbody>\n</table>\n</div>"
     },
     "metadata": {},
     "execution_count": 55
    }
   ],
   "source": [
    "main_df[main_df.rating_denominator == 80]"
   ]
  },
  {
   "cell_type": "code",
   "execution_count": 46,
   "metadata": {},
   "outputs": [
    {
     "output_type": "execute_result",
     "data": {
      "text/plain": "<bound method Series.sort_index of 12      558\n11      464\n10      461\n13      351\n9       158\n8       102\n7       55 \n14      54 \n5       37 \n6       32 \n3       19 \n4       17 \n1       9  \n2       9  \n420     2  \n0       2  \n15      2  \n75      2  \n80      1  \n20      1  \n24      1  \n26      1  \n44      1  \n50      1  \n60      1  \n165     1  \n84      1  \n88      1  \n144     1  \n182     1  \n143     1  \n666     1  \n960     1  \n1776    1  \n17      1  \n27      1  \n45      1  \n99      1  \n121     1  \n204     1  \nName: rating_numerator, dtype: int64>"
     },
     "metadata": {},
     "execution_count": 46
    }
   ],
   "source": [
    "# Checking for abnormal values in rating_numerator\n",
    "main_df.rating_numerator.value_counts().sort_index"
   ]
  },
  {
   "cell_type": "code",
   "execution_count": 62,
   "metadata": {},
   "outputs": [
    {
     "output_type": "execute_result",
     "data": {
      "text/plain": "                tweet_id  in_reply_to_status_id  in_reply_to_user_id  \\\n1202  716439118184652801 NaN                    NaN                    \n\n                      timestamp  \\\n1202  2016-04-03 01:36:11 +0000   \n\n                                                                                  source  \\\n1202  <a href=\"http://twitter.com/download/iphone\" rel=\"nofollow\">Twitter for iPhone</a>   \n\n                                                                                                                       text  \\\n1202  This is Bluebert. He just saw that both #FinalFur match ups are split 50/50. Amazed af. 11/10 https://t.co/Kky1DPG4iq   \n\n      retweeted_status_id  retweeted_status_user_id  \\\n1202 NaN                  NaN                         \n\n     retweeted_status_timestamp  \\\n1202  NaN                         \n\n                                                        expanded_urls  \\\n1202  https://twitter.com/dog_rates/status/716439118184652801/photo/1   \n\n      rating_numerator  rating_denominator      name doggo floofer pupper  \\\n1202  50                50                  Bluebert  None  None    None    \n\n     puppo  \n1202  None  ",
      "text/html": "<div>\n<style scoped>\n    .dataframe tbody tr th:only-of-type {\n        vertical-align: middle;\n    }\n\n    .dataframe tbody tr th {\n        vertical-align: top;\n    }\n\n    .dataframe thead th {\n        text-align: right;\n    }\n</style>\n<table border=\"1\" class=\"dataframe\">\n  <thead>\n    <tr style=\"text-align: right;\">\n      <th></th>\n      <th>tweet_id</th>\n      <th>in_reply_to_status_id</th>\n      <th>in_reply_to_user_id</th>\n      <th>timestamp</th>\n      <th>source</th>\n      <th>text</th>\n      <th>retweeted_status_id</th>\n      <th>retweeted_status_user_id</th>\n      <th>retweeted_status_timestamp</th>\n      <th>expanded_urls</th>\n      <th>rating_numerator</th>\n      <th>rating_denominator</th>\n      <th>name</th>\n      <th>doggo</th>\n      <th>floofer</th>\n      <th>pupper</th>\n      <th>puppo</th>\n    </tr>\n  </thead>\n  <tbody>\n    <tr>\n      <th>1202</th>\n      <td>716439118184652801</td>\n      <td>NaN</td>\n      <td>NaN</td>\n      <td>2016-04-03 01:36:11 +0000</td>\n      <td>&lt;a href=\"http://twitter.com/download/iphone\" rel=\"nofollow\"&gt;Twitter for iPhone&lt;/a&gt;</td>\n      <td>This is Bluebert. He just saw that both #FinalFur match ups are split 50/50. Amazed af. 11/10 https://t.co/Kky1DPG4iq</td>\n      <td>NaN</td>\n      <td>NaN</td>\n      <td>NaN</td>\n      <td>https://twitter.com/dog_rates/status/716439118184652801/photo/1</td>\n      <td>50</td>\n      <td>50</td>\n      <td>Bluebert</td>\n      <td>None</td>\n      <td>None</td>\n      <td>None</td>\n      <td>None</td>\n    </tr>\n  </tbody>\n</table>\n</div>"
     },
     "metadata": {},
     "execution_count": 62
    }
   ],
   "source": [
    "main_df[main_df.rating_numerator == 50] # have to update this as well"
   ]
  },
  {
   "cell_type": "code",
   "execution_count": 63,
   "metadata": {},
   "outputs": [
    {
     "output_type": "execute_result",
     "data": {
      "text/plain": "               tweet_id  in_reply_to_status_id  in_reply_to_user_id  \\\n340  832215909146226688 NaN                    NaN                    \n695  786709082849828864 NaN                    NaN                    \n\n                     timestamp  \\\n340  2017-02-16 13:11:49 +0000   \n695  2016-10-13 23:23:56 +0000   \n\n                                                                                 source  \\\n340  <a href=\"http://twitter.com/download/iphone\" rel=\"nofollow\">Twitter for iPhone</a>   \n695  <a href=\"http://twitter.com/download/iphone\" rel=\"nofollow\">Twitter for iPhone</a>   \n\n                                                                                                                                             text  \\\n340  RT @dog_rates: This is Logan, the Chow who lived. He solemnly swears he's up to lots of good. H*ckin magical af 9.75/10 https://t.co/yBO5wu…   \n695  This is Logan, the Chow who lived. He solemnly swears he's up to lots of good. H*ckin magical af 9.75/10 https://t.co/yBO5wuqaPS               \n\n     retweeted_status_id  retweeted_status_user_id retweeted_status_timestamp  \\\n340  7.867091e+17         4.196984e+09              2016-10-13 23:23:56 +0000   \n695 NaN                  NaN                        NaN                         \n\n                                                       expanded_urls  \\\n340  https://twitter.com/dog_rates/status/786709082849828864/photo/1   \n695  https://twitter.com/dog_rates/status/786709082849828864/photo/1   \n\n     rating_numerator  rating_denominator   name doggo floofer pupper puppo  \n340  75                10                  Logan  None  None    None   None  \n695  75                10                  Logan  None  None    None   None  ",
      "text/html": "<div>\n<style scoped>\n    .dataframe tbody tr th:only-of-type {\n        vertical-align: middle;\n    }\n\n    .dataframe tbody tr th {\n        vertical-align: top;\n    }\n\n    .dataframe thead th {\n        text-align: right;\n    }\n</style>\n<table border=\"1\" class=\"dataframe\">\n  <thead>\n    <tr style=\"text-align: right;\">\n      <th></th>\n      <th>tweet_id</th>\n      <th>in_reply_to_status_id</th>\n      <th>in_reply_to_user_id</th>\n      <th>timestamp</th>\n      <th>source</th>\n      <th>text</th>\n      <th>retweeted_status_id</th>\n      <th>retweeted_status_user_id</th>\n      <th>retweeted_status_timestamp</th>\n      <th>expanded_urls</th>\n      <th>rating_numerator</th>\n      <th>rating_denominator</th>\n      <th>name</th>\n      <th>doggo</th>\n      <th>floofer</th>\n      <th>pupper</th>\n      <th>puppo</th>\n    </tr>\n  </thead>\n  <tbody>\n    <tr>\n      <th>340</th>\n      <td>832215909146226688</td>\n      <td>NaN</td>\n      <td>NaN</td>\n      <td>2017-02-16 13:11:49 +0000</td>\n      <td>&lt;a href=\"http://twitter.com/download/iphone\" rel=\"nofollow\"&gt;Twitter for iPhone&lt;/a&gt;</td>\n      <td>RT @dog_rates: This is Logan, the Chow who lived. He solemnly swears he's up to lots of good. H*ckin magical af 9.75/10 https://t.co/yBO5wu…</td>\n      <td>7.867091e+17</td>\n      <td>4.196984e+09</td>\n      <td>2016-10-13 23:23:56 +0000</td>\n      <td>https://twitter.com/dog_rates/status/786709082849828864/photo/1</td>\n      <td>75</td>\n      <td>10</td>\n      <td>Logan</td>\n      <td>None</td>\n      <td>None</td>\n      <td>None</td>\n      <td>None</td>\n    </tr>\n    <tr>\n      <th>695</th>\n      <td>786709082849828864</td>\n      <td>NaN</td>\n      <td>NaN</td>\n      <td>2016-10-13 23:23:56 +0000</td>\n      <td>&lt;a href=\"http://twitter.com/download/iphone\" rel=\"nofollow\"&gt;Twitter for iPhone&lt;/a&gt;</td>\n      <td>This is Logan, the Chow who lived. He solemnly swears he's up to lots of good. H*ckin magical af 9.75/10 https://t.co/yBO5wuqaPS</td>\n      <td>NaN</td>\n      <td>NaN</td>\n      <td>NaN</td>\n      <td>https://twitter.com/dog_rates/status/786709082849828864/photo/1</td>\n      <td>75</td>\n      <td>10</td>\n      <td>Logan</td>\n      <td>None</td>\n      <td>None</td>\n      <td>None</td>\n      <td>None</td>\n    </tr>\n  </tbody>\n</table>\n</div>"
     },
     "metadata": {},
     "execution_count": 63
    }
   ],
   "source": [
    "main_df[main_df.rating_numerator == 75]"
   ]
  },
  {
   "cell_type": "markdown",
   "metadata": {},
   "source": [
    "##### Seems like instead of picking up the rating, the values in the ratings column picked a ratio from the text itself. Additionally seems like some of the integeres before the . were scrapped off so we got 75 as a value for numerator."
   ]
  },
  {
   "cell_type": "code",
   "execution_count": 49,
   "metadata": {},
   "outputs": [
    {
     "output_type": "execute_result",
     "data": {
      "text/plain": "very            5\nunacceptable    1\nthis            1\nthe             8\nsuch            1\n               ..\nAiden           1\nAdele           1\nAcro            1\nAce             1\nAbby            2\nName: name, Length: 957, dtype: int64"
     },
     "metadata": {},
     "execution_count": 49
    }
   ],
   "source": [
    "main_df.name.value_counts().sort_index(ascending = False) \n",
    "# Seems like there are issues with names of the dogs, have to explore further"
   ]
  },
  {
   "cell_type": "code",
   "execution_count": 50,
   "metadata": {},
   "outputs": [
    {
     "output_type": "execute_result",
     "data": {
      "text/plain": "                tweet_id  in_reply_to_status_id  in_reply_to_user_id  \\\n7     890729181411237888 NaN                    NaN                    \n12    889665388333682689 NaN                    NaN                    \n23    887473957103951883 NaN                    NaN                    \n24    887343217045368832 NaN                    NaN                    \n25    887101392804085760 NaN                    NaN                    \n...                  ...  ..                     ..                    \n2351  666049248165822465 NaN                    NaN                    \n2352  666044226329800704 NaN                    NaN                    \n2353  666033412701032449 NaN                    NaN                    \n2354  666029285002620928 NaN                    NaN                    \n2355  666020888022790149 NaN                    NaN                    \n\n                      timestamp  \\\n7     2017-07-28 00:22:40 +0000   \n12    2017-07-25 01:55:32 +0000   \n23    2017-07-19 00:47:34 +0000   \n24    2017-07-18 16:08:03 +0000   \n25    2017-07-18 00:07:08 +0000   \n...                         ...   \n2351  2015-11-16 00:24:50 +0000   \n2352  2015-11-16 00:04:52 +0000   \n2353  2015-11-15 23:21:54 +0000   \n2354  2015-11-15 23:05:30 +0000   \n2355  2015-11-15 22:32:08 +0000   \n\n                                                                                  source  \\\n7     <a href=\"http://twitter.com/download/iphone\" rel=\"nofollow\">Twitter for iPhone</a>   \n12    <a href=\"http://twitter.com/download/iphone\" rel=\"nofollow\">Twitter for iPhone</a>   \n23    <a href=\"http://twitter.com/download/iphone\" rel=\"nofollow\">Twitter for iPhone</a>   \n24    <a href=\"http://twitter.com/download/iphone\" rel=\"nofollow\">Twitter for iPhone</a>   \n25    <a href=\"http://twitter.com/download/iphone\" rel=\"nofollow\">Twitter for iPhone</a>   \n...                                                                                  ...   \n2351  <a href=\"http://twitter.com/download/iphone\" rel=\"nofollow\">Twitter for iPhone</a>   \n2352  <a href=\"http://twitter.com/download/iphone\" rel=\"nofollow\">Twitter for iPhone</a>   \n2353  <a href=\"http://twitter.com/download/iphone\" rel=\"nofollow\">Twitter for iPhone</a>   \n2354  <a href=\"http://twitter.com/download/iphone\" rel=\"nofollow\">Twitter for iPhone</a>   \n2355  <a href=\"http://twitter.com/download/iphone\" rel=\"nofollow\">Twitter for iPhone</a>   \n\n                                                                                                                                                           text  \\\n7     When you watch your owner call another dog a good boy but then they turn back to you and say you're a great boy. 13/10 https://t.co/v0nONBcwxq              \n12    Here's a puppo that seems to be on the fence about something haha no but seriously someone help her. 13/10 https://t.co/BxvuXk0UCm                          \n23    This is Canela. She attempted some fancy porch pics. They were unsuccessful. 13/10 someone help her https://t.co/cLyzpcUcMX                                 \n24    You may not have known you needed to see this today. 13/10 please enjoy (IG: emmylouroo) https://t.co/WZqNqygEyV                                            \n25    This... is a Jubilant Antarctic House Bear. We only rate dogs. Please only send dogs. Thank you... 12/10 would suffocate in floof https://t.co/4Ad1jzJSdp   \n...                                                                                                                                                         ...   \n2351  Here we have a 1949 1st generation vulpix. Enjoys sweat tea and Fox News. Cannot be phased. 5/10 https://t.co/4B7cOc1EDq                                    \n2352  This is a purebred Piers Morgan. Loves to Netflix and chill. Always looks like he forgot to unplug the iron. 6/10 https://t.co/DWnyCjf2mx                   \n2353  Here is a very happy pup. Big fan of well-maintained decks. Just look at that tongue. 9/10 would cuddle af https://t.co/y671yMhoiR                          \n2354  This is a western brown Mitsubishi terrier. Upset about leaf. Actually 2 dogs here. 7/10 would walk the shit out of https://t.co/r7mOb2m0UI                 \n2355  Here we have a Japanese Irish Setter. Lost eye in Vietnam (?). Big fan of relaxing on stair. 8/10 would pet https://t.co/BLDqew2Ijj                         \n\n      retweeted_status_id  retweeted_status_user_id  \\\n7    NaN                  NaN                         \n12   NaN                  NaN                         \n23   NaN                  NaN                         \n24   NaN                  NaN                         \n25   NaN                  NaN                         \n...   ..                   ..                         \n2351 NaN                  NaN                         \n2352 NaN                  NaN                         \n2353 NaN                  NaN                         \n2354 NaN                  NaN                         \n2355 NaN                  NaN                         \n\n     retweeted_status_timestamp  \\\n7     NaN                         \n12    NaN                         \n23    NaN                         \n24    NaN                         \n25    NaN                         \n...   ...                         \n2351  NaN                         \n2352  NaN                         \n2353  NaN                         \n2354  NaN                         \n2355  NaN                         \n\n                                                                                                                        expanded_urls  \\\n7     https://twitter.com/dog_rates/status/890729181411237888/photo/1,https://twitter.com/dog_rates/status/890729181411237888/photo/1   \n12    https://twitter.com/dog_rates/status/889665388333682689/photo/1                                                                   \n23    https://twitter.com/dog_rates/status/887473957103951883/photo/1,https://twitter.com/dog_rates/status/887473957103951883/photo/1   \n24    https://twitter.com/dog_rates/status/887343217045368832/video/1                                                                   \n25    https://twitter.com/dog_rates/status/887101392804085760/photo/1                                                                   \n...                                                               ...                                                                   \n2351  https://twitter.com/dog_rates/status/666049248165822465/photo/1                                                                   \n2352  https://twitter.com/dog_rates/status/666044226329800704/photo/1                                                                   \n2353  https://twitter.com/dog_rates/status/666033412701032449/photo/1                                                                   \n2354  https://twitter.com/dog_rates/status/666029285002620928/photo/1                                                                   \n2355  https://twitter.com/dog_rates/status/666020888022790149/photo/1                                                                   \n\n      rating_numerator  rating_denominator    name doggo floofer pupper  puppo  \n7     13                10                  None    None  None    None   None   \n12    13                10                  None    None  None    None   puppo  \n23    13                10                  Canela  None  None    None   None   \n24    13                10                  None    None  None    None   None   \n25    12                10                  None    None  None    None   None   \n...   ..                ..                   ...     ...   ...     ...    ...   \n2351  5                 10                  None    None  None    None   None   \n2352  6                 10                  a       None  None    None   None   \n2353  9                 10                  a       None  None    None   None   \n2354  7                 10                  a       None  None    None   None   \n2355  8                 10                  None    None  None    None   None   \n\n[1399 rows x 17 columns]",
      "text/html": "<div>\n<style scoped>\n    .dataframe tbody tr th:only-of-type {\n        vertical-align: middle;\n    }\n\n    .dataframe tbody tr th {\n        vertical-align: top;\n    }\n\n    .dataframe thead th {\n        text-align: right;\n    }\n</style>\n<table border=\"1\" class=\"dataframe\">\n  <thead>\n    <tr style=\"text-align: right;\">\n      <th></th>\n      <th>tweet_id</th>\n      <th>in_reply_to_status_id</th>\n      <th>in_reply_to_user_id</th>\n      <th>timestamp</th>\n      <th>source</th>\n      <th>text</th>\n      <th>retweeted_status_id</th>\n      <th>retweeted_status_user_id</th>\n      <th>retweeted_status_timestamp</th>\n      <th>expanded_urls</th>\n      <th>rating_numerator</th>\n      <th>rating_denominator</th>\n      <th>name</th>\n      <th>doggo</th>\n      <th>floofer</th>\n      <th>pupper</th>\n      <th>puppo</th>\n    </tr>\n  </thead>\n  <tbody>\n    <tr>\n      <th>7</th>\n      <td>890729181411237888</td>\n      <td>NaN</td>\n      <td>NaN</td>\n      <td>2017-07-28 00:22:40 +0000</td>\n      <td>&lt;a href=\"http://twitter.com/download/iphone\" rel=\"nofollow\"&gt;Twitter for iPhone&lt;/a&gt;</td>\n      <td>When you watch your owner call another dog a good boy but then they turn back to you and say you're a great boy. 13/10 https://t.co/v0nONBcwxq</td>\n      <td>NaN</td>\n      <td>NaN</td>\n      <td>NaN</td>\n      <td>https://twitter.com/dog_rates/status/890729181411237888/photo/1,https://twitter.com/dog_rates/status/890729181411237888/photo/1</td>\n      <td>13</td>\n      <td>10</td>\n      <td>None</td>\n      <td>None</td>\n      <td>None</td>\n      <td>None</td>\n      <td>None</td>\n    </tr>\n    <tr>\n      <th>12</th>\n      <td>889665388333682689</td>\n      <td>NaN</td>\n      <td>NaN</td>\n      <td>2017-07-25 01:55:32 +0000</td>\n      <td>&lt;a href=\"http://twitter.com/download/iphone\" rel=\"nofollow\"&gt;Twitter for iPhone&lt;/a&gt;</td>\n      <td>Here's a puppo that seems to be on the fence about something haha no but seriously someone help her. 13/10 https://t.co/BxvuXk0UCm</td>\n      <td>NaN</td>\n      <td>NaN</td>\n      <td>NaN</td>\n      <td>https://twitter.com/dog_rates/status/889665388333682689/photo/1</td>\n      <td>13</td>\n      <td>10</td>\n      <td>None</td>\n      <td>None</td>\n      <td>None</td>\n      <td>None</td>\n      <td>puppo</td>\n    </tr>\n    <tr>\n      <th>23</th>\n      <td>887473957103951883</td>\n      <td>NaN</td>\n      <td>NaN</td>\n      <td>2017-07-19 00:47:34 +0000</td>\n      <td>&lt;a href=\"http://twitter.com/download/iphone\" rel=\"nofollow\"&gt;Twitter for iPhone&lt;/a&gt;</td>\n      <td>This is Canela. She attempted some fancy porch pics. They were unsuccessful. 13/10 someone help her https://t.co/cLyzpcUcMX</td>\n      <td>NaN</td>\n      <td>NaN</td>\n      <td>NaN</td>\n      <td>https://twitter.com/dog_rates/status/887473957103951883/photo/1,https://twitter.com/dog_rates/status/887473957103951883/photo/1</td>\n      <td>13</td>\n      <td>10</td>\n      <td>Canela</td>\n      <td>None</td>\n      <td>None</td>\n      <td>None</td>\n      <td>None</td>\n    </tr>\n    <tr>\n      <th>24</th>\n      <td>887343217045368832</td>\n      <td>NaN</td>\n      <td>NaN</td>\n      <td>2017-07-18 16:08:03 +0000</td>\n      <td>&lt;a href=\"http://twitter.com/download/iphone\" rel=\"nofollow\"&gt;Twitter for iPhone&lt;/a&gt;</td>\n      <td>You may not have known you needed to see this today. 13/10 please enjoy (IG: emmylouroo) https://t.co/WZqNqygEyV</td>\n      <td>NaN</td>\n      <td>NaN</td>\n      <td>NaN</td>\n      <td>https://twitter.com/dog_rates/status/887343217045368832/video/1</td>\n      <td>13</td>\n      <td>10</td>\n      <td>None</td>\n      <td>None</td>\n      <td>None</td>\n      <td>None</td>\n      <td>None</td>\n    </tr>\n    <tr>\n      <th>25</th>\n      <td>887101392804085760</td>\n      <td>NaN</td>\n      <td>NaN</td>\n      <td>2017-07-18 00:07:08 +0000</td>\n      <td>&lt;a href=\"http://twitter.com/download/iphone\" rel=\"nofollow\"&gt;Twitter for iPhone&lt;/a&gt;</td>\n      <td>This... is a Jubilant Antarctic House Bear. We only rate dogs. Please only send dogs. Thank you... 12/10 would suffocate in floof https://t.co/4Ad1jzJSdp</td>\n      <td>NaN</td>\n      <td>NaN</td>\n      <td>NaN</td>\n      <td>https://twitter.com/dog_rates/status/887101392804085760/photo/1</td>\n      <td>12</td>\n      <td>10</td>\n      <td>None</td>\n      <td>None</td>\n      <td>None</td>\n      <td>None</td>\n      <td>None</td>\n    </tr>\n    <tr>\n      <th>...</th>\n      <td>...</td>\n      <td>...</td>\n      <td>...</td>\n      <td>...</td>\n      <td>...</td>\n      <td>...</td>\n      <td>...</td>\n      <td>...</td>\n      <td>...</td>\n      <td>...</td>\n      <td>...</td>\n      <td>...</td>\n      <td>...</td>\n      <td>...</td>\n      <td>...</td>\n      <td>...</td>\n      <td>...</td>\n    </tr>\n    <tr>\n      <th>2351</th>\n      <td>666049248165822465</td>\n      <td>NaN</td>\n      <td>NaN</td>\n      <td>2015-11-16 00:24:50 +0000</td>\n      <td>&lt;a href=\"http://twitter.com/download/iphone\" rel=\"nofollow\"&gt;Twitter for iPhone&lt;/a&gt;</td>\n      <td>Here we have a 1949 1st generation vulpix. Enjoys sweat tea and Fox News. Cannot be phased. 5/10 https://t.co/4B7cOc1EDq</td>\n      <td>NaN</td>\n      <td>NaN</td>\n      <td>NaN</td>\n      <td>https://twitter.com/dog_rates/status/666049248165822465/photo/1</td>\n      <td>5</td>\n      <td>10</td>\n      <td>None</td>\n      <td>None</td>\n      <td>None</td>\n      <td>None</td>\n      <td>None</td>\n    </tr>\n    <tr>\n      <th>2352</th>\n      <td>666044226329800704</td>\n      <td>NaN</td>\n      <td>NaN</td>\n      <td>2015-11-16 00:04:52 +0000</td>\n      <td>&lt;a href=\"http://twitter.com/download/iphone\" rel=\"nofollow\"&gt;Twitter for iPhone&lt;/a&gt;</td>\n      <td>This is a purebred Piers Morgan. Loves to Netflix and chill. Always looks like he forgot to unplug the iron. 6/10 https://t.co/DWnyCjf2mx</td>\n      <td>NaN</td>\n      <td>NaN</td>\n      <td>NaN</td>\n      <td>https://twitter.com/dog_rates/status/666044226329800704/photo/1</td>\n      <td>6</td>\n      <td>10</td>\n      <td>a</td>\n      <td>None</td>\n      <td>None</td>\n      <td>None</td>\n      <td>None</td>\n    </tr>\n    <tr>\n      <th>2353</th>\n      <td>666033412701032449</td>\n      <td>NaN</td>\n      <td>NaN</td>\n      <td>2015-11-15 23:21:54 +0000</td>\n      <td>&lt;a href=\"http://twitter.com/download/iphone\" rel=\"nofollow\"&gt;Twitter for iPhone&lt;/a&gt;</td>\n      <td>Here is a very happy pup. Big fan of well-maintained decks. Just look at that tongue. 9/10 would cuddle af https://t.co/y671yMhoiR</td>\n      <td>NaN</td>\n      <td>NaN</td>\n      <td>NaN</td>\n      <td>https://twitter.com/dog_rates/status/666033412701032449/photo/1</td>\n      <td>9</td>\n      <td>10</td>\n      <td>a</td>\n      <td>None</td>\n      <td>None</td>\n      <td>None</td>\n      <td>None</td>\n    </tr>\n    <tr>\n      <th>2354</th>\n      <td>666029285002620928</td>\n      <td>NaN</td>\n      <td>NaN</td>\n      <td>2015-11-15 23:05:30 +0000</td>\n      <td>&lt;a href=\"http://twitter.com/download/iphone\" rel=\"nofollow\"&gt;Twitter for iPhone&lt;/a&gt;</td>\n      <td>This is a western brown Mitsubishi terrier. Upset about leaf. Actually 2 dogs here. 7/10 would walk the shit out of https://t.co/r7mOb2m0UI</td>\n      <td>NaN</td>\n      <td>NaN</td>\n      <td>NaN</td>\n      <td>https://twitter.com/dog_rates/status/666029285002620928/photo/1</td>\n      <td>7</td>\n      <td>10</td>\n      <td>a</td>\n      <td>None</td>\n      <td>None</td>\n      <td>None</td>\n      <td>None</td>\n    </tr>\n    <tr>\n      <th>2355</th>\n      <td>666020888022790149</td>\n      <td>NaN</td>\n      <td>NaN</td>\n      <td>2015-11-15 22:32:08 +0000</td>\n      <td>&lt;a href=\"http://twitter.com/download/iphone\" rel=\"nofollow\"&gt;Twitter for iPhone&lt;/a&gt;</td>\n      <td>Here we have a Japanese Irish Setter. Lost eye in Vietnam (?). Big fan of relaxing on stair. 8/10 would pet https://t.co/BLDqew2Ijj</td>\n      <td>NaN</td>\n      <td>NaN</td>\n      <td>NaN</td>\n      <td>https://twitter.com/dog_rates/status/666020888022790149/photo/1</td>\n      <td>8</td>\n      <td>10</td>\n      <td>None</td>\n      <td>None</td>\n      <td>None</td>\n      <td>None</td>\n      <td>None</td>\n    </tr>\n  </tbody>\n</table>\n<p>1399 rows × 17 columns</p>\n</div>"
     },
     "metadata": {},
     "execution_count": 50
    }
   ],
   "source": [
    "main_df[main_df.name.duplicated()]"
   ]
  },
  {
   "cell_type": "markdown",
   "metadata": {},
   "source": [
    "##### Either missing values for the dogs names or incorrect values, such as \"a\"."
   ]
  },
  {
   "cell_type": "code",
   "execution_count": 65,
   "metadata": {},
   "outputs": [
    {
     "output_type": "execute_result",
     "data": {
      "text/plain": "             tweet_id                                          jpg_url  \\\n0  666020888022790149  https://pbs.twimg.com/media/CT4udn0WwAA0aMy.jpg   \n1  666029285002620928  https://pbs.twimg.com/media/CT42GRgUYAA5iDo.jpg   \n2  666033412701032449  https://pbs.twimg.com/media/CT4521TWwAEvMyu.jpg   \n3  666044226329800704  https://pbs.twimg.com/media/CT5Dr8HUEAA-lEu.jpg   \n4  666049248165822465  https://pbs.twimg.com/media/CT5IQmsXIAAKY4A.jpg   \n5  666050758794694657  https://pbs.twimg.com/media/CT5Jof1WUAEuVxN.jpg   \n6  666051853826850816  https://pbs.twimg.com/media/CT5KoJ1WoAAJash.jpg   \n7  666055525042405380  https://pbs.twimg.com/media/CT5N9tpXIAAifs1.jpg   \n8  666057090499244032  https://pbs.twimg.com/media/CT5PY90WoAAQGLo.jpg   \n9  666058600524156928  https://pbs.twimg.com/media/CT5Qw94XAAA_2dP.jpg   \n\n   img_num                      p1   p1_conf  p1_dog                  p2  \\\n0  1        Welsh_springer_spaniel  0.465074  True    collie               \n1  1        redbone                 0.506826  True    miniature_pinscher   \n2  1        German_shepherd         0.596461  True    malinois             \n3  1        Rhodesian_ridgeback     0.408143  True    redbone              \n4  1        miniature_pinscher      0.560311  True    Rottweiler           \n5  1        Bernese_mountain_dog    0.651137  True    English_springer     \n6  1        box_turtle              0.933012  False   mud_turtle           \n7  1        chow                    0.692517  True    Tibetan_mastiff      \n8  1        shopping_cart           0.962465  False   shopping_basket      \n9  1        miniature_poodle        0.201493  True    komondor             \n\n    p2_conf  p2_dog                           p3   p3_conf  p3_dog  \n0  0.156665  True    Shetland_sheepdog            0.061428  True    \n1  0.074192  True    Rhodesian_ridgeback          0.072010  True    \n2  0.138584  True    bloodhound                   0.116197  True    \n3  0.360687  True    miniature_pinscher           0.222752  True    \n4  0.243682  True    Doberman                     0.154629  True    \n5  0.263788  True    Greater_Swiss_Mountain_dog   0.016199  True    \n6  0.045885  False   terrapin                     0.017885  False   \n7  0.058279  True    fur_coat                     0.054449  False   \n8  0.014594  False   golden_retriever             0.007959  True    \n9  0.192305  True    soft-coated_wheaten_terrier  0.082086  True    ",
      "text/html": "<div>\n<style scoped>\n    .dataframe tbody tr th:only-of-type {\n        vertical-align: middle;\n    }\n\n    .dataframe tbody tr th {\n        vertical-align: top;\n    }\n\n    .dataframe thead th {\n        text-align: right;\n    }\n</style>\n<table border=\"1\" class=\"dataframe\">\n  <thead>\n    <tr style=\"text-align: right;\">\n      <th></th>\n      <th>tweet_id</th>\n      <th>jpg_url</th>\n      <th>img_num</th>\n      <th>p1</th>\n      <th>p1_conf</th>\n      <th>p1_dog</th>\n      <th>p2</th>\n      <th>p2_conf</th>\n      <th>p2_dog</th>\n      <th>p3</th>\n      <th>p3_conf</th>\n      <th>p3_dog</th>\n    </tr>\n  </thead>\n  <tbody>\n    <tr>\n      <th>0</th>\n      <td>666020888022790149</td>\n      <td>https://pbs.twimg.com/media/CT4udn0WwAA0aMy.jpg</td>\n      <td>1</td>\n      <td>Welsh_springer_spaniel</td>\n      <td>0.465074</td>\n      <td>True</td>\n      <td>collie</td>\n      <td>0.156665</td>\n      <td>True</td>\n      <td>Shetland_sheepdog</td>\n      <td>0.061428</td>\n      <td>True</td>\n    </tr>\n    <tr>\n      <th>1</th>\n      <td>666029285002620928</td>\n      <td>https://pbs.twimg.com/media/CT42GRgUYAA5iDo.jpg</td>\n      <td>1</td>\n      <td>redbone</td>\n      <td>0.506826</td>\n      <td>True</td>\n      <td>miniature_pinscher</td>\n      <td>0.074192</td>\n      <td>True</td>\n      <td>Rhodesian_ridgeback</td>\n      <td>0.072010</td>\n      <td>True</td>\n    </tr>\n    <tr>\n      <th>2</th>\n      <td>666033412701032449</td>\n      <td>https://pbs.twimg.com/media/CT4521TWwAEvMyu.jpg</td>\n      <td>1</td>\n      <td>German_shepherd</td>\n      <td>0.596461</td>\n      <td>True</td>\n      <td>malinois</td>\n      <td>0.138584</td>\n      <td>True</td>\n      <td>bloodhound</td>\n      <td>0.116197</td>\n      <td>True</td>\n    </tr>\n    <tr>\n      <th>3</th>\n      <td>666044226329800704</td>\n      <td>https://pbs.twimg.com/media/CT5Dr8HUEAA-lEu.jpg</td>\n      <td>1</td>\n      <td>Rhodesian_ridgeback</td>\n      <td>0.408143</td>\n      <td>True</td>\n      <td>redbone</td>\n      <td>0.360687</td>\n      <td>True</td>\n      <td>miniature_pinscher</td>\n      <td>0.222752</td>\n      <td>True</td>\n    </tr>\n    <tr>\n      <th>4</th>\n      <td>666049248165822465</td>\n      <td>https://pbs.twimg.com/media/CT5IQmsXIAAKY4A.jpg</td>\n      <td>1</td>\n      <td>miniature_pinscher</td>\n      <td>0.560311</td>\n      <td>True</td>\n      <td>Rottweiler</td>\n      <td>0.243682</td>\n      <td>True</td>\n      <td>Doberman</td>\n      <td>0.154629</td>\n      <td>True</td>\n    </tr>\n    <tr>\n      <th>5</th>\n      <td>666050758794694657</td>\n      <td>https://pbs.twimg.com/media/CT5Jof1WUAEuVxN.jpg</td>\n      <td>1</td>\n      <td>Bernese_mountain_dog</td>\n      <td>0.651137</td>\n      <td>True</td>\n      <td>English_springer</td>\n      <td>0.263788</td>\n      <td>True</td>\n      <td>Greater_Swiss_Mountain_dog</td>\n      <td>0.016199</td>\n      <td>True</td>\n    </tr>\n    <tr>\n      <th>6</th>\n      <td>666051853826850816</td>\n      <td>https://pbs.twimg.com/media/CT5KoJ1WoAAJash.jpg</td>\n      <td>1</td>\n      <td>box_turtle</td>\n      <td>0.933012</td>\n      <td>False</td>\n      <td>mud_turtle</td>\n      <td>0.045885</td>\n      <td>False</td>\n      <td>terrapin</td>\n      <td>0.017885</td>\n      <td>False</td>\n    </tr>\n    <tr>\n      <th>7</th>\n      <td>666055525042405380</td>\n      <td>https://pbs.twimg.com/media/CT5N9tpXIAAifs1.jpg</td>\n      <td>1</td>\n      <td>chow</td>\n      <td>0.692517</td>\n      <td>True</td>\n      <td>Tibetan_mastiff</td>\n      <td>0.058279</td>\n      <td>True</td>\n      <td>fur_coat</td>\n      <td>0.054449</td>\n      <td>False</td>\n    </tr>\n    <tr>\n      <th>8</th>\n      <td>666057090499244032</td>\n      <td>https://pbs.twimg.com/media/CT5PY90WoAAQGLo.jpg</td>\n      <td>1</td>\n      <td>shopping_cart</td>\n      <td>0.962465</td>\n      <td>False</td>\n      <td>shopping_basket</td>\n      <td>0.014594</td>\n      <td>False</td>\n      <td>golden_retriever</td>\n      <td>0.007959</td>\n      <td>True</td>\n    </tr>\n    <tr>\n      <th>9</th>\n      <td>666058600524156928</td>\n      <td>https://pbs.twimg.com/media/CT5Qw94XAAA_2dP.jpg</td>\n      <td>1</td>\n      <td>miniature_poodle</td>\n      <td>0.201493</td>\n      <td>True</td>\n      <td>komondor</td>\n      <td>0.192305</td>\n      <td>True</td>\n      <td>soft-coated_wheaten_terrier</td>\n      <td>0.082086</td>\n      <td>True</td>\n    </tr>\n  </tbody>\n</table>\n</div>"
     },
     "metadata": {},
     "execution_count": 65
    }
   ],
   "source": [
    "image_predictions.head(10)"
   ]
  },
  {
   "cell_type": "markdown",
   "metadata": {},
   "source": [
    "##### Visually assesing the second dataframe, it seems that some of the predictions are not dog breeds but rather other names"
   ]
  },
  {
   "cell_type": "code",
   "execution_count": 66,
   "metadata": {},
   "outputs": [
    {
     "output_type": "execute_result",
     "data": {
      "text/plain": "                tweet_id                                          jpg_url  \\\n8     666057090499244032  https://pbs.twimg.com/media/CT5PY90WoAAQGLo.jpg   \n703   684914660081053696  https://pbs.twimg.com/media/CYFOP6cWEAAWp-k.jpg   \n1432  773308824254029826  https://pbs.twimg.com/media/CrtYRMEWIAAUkCl.jpg   \n1760  825876512159186944  https://pbs.twimg.com/media/C3YaSnQWAAILgz0.jpg   \n1834  836989968035819520  https://pbs.twimg.com/media/C52V7PzWcAA_pVv.jpg   \n\n      img_num             p1   p1_conf  p1_dog                  p2   p2_conf  \\\n8     1        shopping_cart  0.962465  False   shopping_basket     0.014594   \n703   1        shopping_cart  0.460950  False   chow                0.261288   \n1432  1        shopping_cart  0.572349  False   Labrador_retriever  0.151406   \n1760  1        shopping_cart  0.995941  False   shopping_basket     0.004057   \n1834  1        shopping_cart  0.572422  False   shopping_basket     0.414002   \n\n      p2_dog                  p3       p3_conf  p3_dog  \n8     False   golden_retriever    7.958960e-03  True    \n703   True    Labrador_retriever  7.419380e-02  True    \n1432  True    shopping_basket     1.071020e-01  False   \n1760  False   mousetrap           8.832830e-07  False   \n1834  False   toy_poodle          5.887300e-03  True    ",
      "text/html": "<div>\n<style scoped>\n    .dataframe tbody tr th:only-of-type {\n        vertical-align: middle;\n    }\n\n    .dataframe tbody tr th {\n        vertical-align: top;\n    }\n\n    .dataframe thead th {\n        text-align: right;\n    }\n</style>\n<table border=\"1\" class=\"dataframe\">\n  <thead>\n    <tr style=\"text-align: right;\">\n      <th></th>\n      <th>tweet_id</th>\n      <th>jpg_url</th>\n      <th>img_num</th>\n      <th>p1</th>\n      <th>p1_conf</th>\n      <th>p1_dog</th>\n      <th>p2</th>\n      <th>p2_conf</th>\n      <th>p2_dog</th>\n      <th>p3</th>\n      <th>p3_conf</th>\n      <th>p3_dog</th>\n    </tr>\n  </thead>\n  <tbody>\n    <tr>\n      <th>8</th>\n      <td>666057090499244032</td>\n      <td>https://pbs.twimg.com/media/CT5PY90WoAAQGLo.jpg</td>\n      <td>1</td>\n      <td>shopping_cart</td>\n      <td>0.962465</td>\n      <td>False</td>\n      <td>shopping_basket</td>\n      <td>0.014594</td>\n      <td>False</td>\n      <td>golden_retriever</td>\n      <td>7.958960e-03</td>\n      <td>True</td>\n    </tr>\n    <tr>\n      <th>703</th>\n      <td>684914660081053696</td>\n      <td>https://pbs.twimg.com/media/CYFOP6cWEAAWp-k.jpg</td>\n      <td>1</td>\n      <td>shopping_cart</td>\n      <td>0.460950</td>\n      <td>False</td>\n      <td>chow</td>\n      <td>0.261288</td>\n      <td>True</td>\n      <td>Labrador_retriever</td>\n      <td>7.419380e-02</td>\n      <td>True</td>\n    </tr>\n    <tr>\n      <th>1432</th>\n      <td>773308824254029826</td>\n      <td>https://pbs.twimg.com/media/CrtYRMEWIAAUkCl.jpg</td>\n      <td>1</td>\n      <td>shopping_cart</td>\n      <td>0.572349</td>\n      <td>False</td>\n      <td>Labrador_retriever</td>\n      <td>0.151406</td>\n      <td>True</td>\n      <td>shopping_basket</td>\n      <td>1.071020e-01</td>\n      <td>False</td>\n    </tr>\n    <tr>\n      <th>1760</th>\n      <td>825876512159186944</td>\n      <td>https://pbs.twimg.com/media/C3YaSnQWAAILgz0.jpg</td>\n      <td>1</td>\n      <td>shopping_cart</td>\n      <td>0.995941</td>\n      <td>False</td>\n      <td>shopping_basket</td>\n      <td>0.004057</td>\n      <td>False</td>\n      <td>mousetrap</td>\n      <td>8.832830e-07</td>\n      <td>False</td>\n    </tr>\n    <tr>\n      <th>1834</th>\n      <td>836989968035819520</td>\n      <td>https://pbs.twimg.com/media/C52V7PzWcAA_pVv.jpg</td>\n      <td>1</td>\n      <td>shopping_cart</td>\n      <td>0.572422</td>\n      <td>False</td>\n      <td>shopping_basket</td>\n      <td>0.414002</td>\n      <td>False</td>\n      <td>toy_poodle</td>\n      <td>5.887300e-03</td>\n      <td>True</td>\n    </tr>\n  </tbody>\n</table>\n</div>"
     },
     "metadata": {},
     "execution_count": 66
    }
   ],
   "source": [
    "image_predictions[image_predictions.p1 == 'shopping_cart']"
   ]
  },
  {
   "cell_type": "markdown",
   "metadata": {},
   "source": [
    "# Quality issues:\n",
    "## Main Dataframe:\n",
    "* Many null values in columns such as in_reply_to_status, in_reply_to_user_id etc. - done\n",
    "* Retweets thus invalid entries - done\n",
    "* Abnormal, null or wrongly extracted values in the rating_numerator & rating_denominator column - done\n",
    "* NaN or wrong inputs for the names columns - done\n",
    "* Timestamp column should be datetime type - done\n",
    "\n",
    "## Image predictions:\n",
    "* Inconsistent letter cases (some are starting with Capital letter, some are not) - done\n",
    "\n",
    "\n",
    "# Tidiness issues:\n",
    "## Main Dataframe:\n",
    "* Lots of unnecessary columns that can be dropped - done\n",
    "* Doggo, floofer, pupper and puppo can be column values rather than column headers - done\n",
    "\n",
    "\n",
    "## Image predictions:\n",
    "* Joining the table with the main dataframe - done\n",
    "\n",
    "## Tweets API Dataframe:\n",
    "* Rename the id column to tweet_id column so we can join later - done\n",
    "* Retweet counts and favorite counts should be added to the main Dataframe - done"
   ]
  },
  {
   "cell_type": "markdown",
   "metadata": {},
   "source": [
    "# Clean"
   ]
  },
  {
   "cell_type": "code",
   "execution_count": 241,
   "metadata": {},
   "outputs": [],
   "source": [
    "# Starting with copies of the dataframes so we can work with them more easily:\n",
    "main_df_copy = main_df.copy()\n",
    "image_predictions_copy = image_predictions.copy()\n",
    "tweets_api_df_copy = tweets_api_df.copy()"
   ]
  },
  {
   "cell_type": "markdown",
   "metadata": {},
   "source": [
    "### Define\n",
    "#### Remove the retweets by removing the rows which have the retweet_status_id value not-null"
   ]
  },
  {
   "cell_type": "markdown",
   "metadata": {},
   "source": [
    "### Code"
   ]
  },
  {
   "cell_type": "code",
   "execution_count": 242,
   "metadata": {},
   "outputs": [],
   "source": [
    "main_df_copy = main_df_copy[main_df_copy.retweeted_status_id.isnull()]"
   ]
  },
  {
   "cell_type": "markdown",
   "metadata": {},
   "source": [
    "### Test"
   ]
  },
  {
   "cell_type": "code",
   "execution_count": 243,
   "metadata": {
    "tags": []
   },
   "outputs": [
    {
     "output_type": "stream",
     "name": "stdout",
     "text": "<class 'pandas.core.frame.DataFrame'>\nInt64Index: 2175 entries, 0 to 2355\nData columns (total 17 columns):\n #   Column                      Non-Null Count  Dtype  \n---  ------                      --------------  -----  \n 0   tweet_id                    2175 non-null   int64  \n 1   in_reply_to_status_id       78 non-null     float64\n 2   in_reply_to_user_id         78 non-null     float64\n 3   timestamp                   2175 non-null   object \n 4   source                      2175 non-null   object \n 5   text                        2175 non-null   object \n 6   retweeted_status_id         0 non-null      float64\n 7   retweeted_status_user_id    0 non-null      float64\n 8   retweeted_status_timestamp  0 non-null      object \n 9   expanded_urls               2117 non-null   object \n 10  rating_numerator            2175 non-null   int64  \n 11  rating_denominator          2175 non-null   int64  \n 12  name                        2175 non-null   object \n 13  doggo                       2175 non-null   object \n 14  floofer                     2175 non-null   object \n 15  pupper                      2175 non-null   object \n 16  puppo                       2175 non-null   object \ndtypes: float64(4), int64(3), object(10)\nmemory usage: 305.9+ KB\n"
    }
   ],
   "source": [
    "main_df_copy.info()"
   ]
  },
  {
   "cell_type": "markdown",
   "metadata": {},
   "source": [
    "### Define\n",
    "#### Drop in_reply_to_status_id, in_reply_to_user_id, retweeted_status_id, retweeted_status_user_id, retweeted_status_timestamp columns"
   ]
  },
  {
   "cell_type": "markdown",
   "metadata": {},
   "source": [
    "### Code"
   ]
  },
  {
   "cell_type": "code",
   "execution_count": 244,
   "metadata": {},
   "outputs": [],
   "source": [
    "main_df_copy = main_df_copy.drop(['in_reply_to_status_id','in_reply_to_user_id','retweeted_status_id','retweeted_status_user_id',\n",
    "                                  'retweeted_status_timestamp'], axis=1)"
   ]
  },
  {
   "cell_type": "markdown",
   "metadata": {},
   "source": [
    "### Test"
   ]
  },
  {
   "cell_type": "code",
   "execution_count": 245,
   "metadata": {
    "tags": []
   },
   "outputs": [
    {
     "output_type": "stream",
     "name": "stdout",
     "text": "<class 'pandas.core.frame.DataFrame'>\nInt64Index: 2175 entries, 0 to 2355\nData columns (total 12 columns):\n #   Column              Non-Null Count  Dtype \n---  ------              --------------  ----- \n 0   tweet_id            2175 non-null   int64 \n 1   timestamp           2175 non-null   object\n 2   source              2175 non-null   object\n 3   text                2175 non-null   object\n 4   expanded_urls       2117 non-null   object\n 5   rating_numerator    2175 non-null   int64 \n 6   rating_denominator  2175 non-null   int64 \n 7   name                2175 non-null   object\n 8   doggo               2175 non-null   object\n 9   floofer             2175 non-null   object\n 10  pupper              2175 non-null   object\n 11  puppo               2175 non-null   object\ndtypes: int64(3), object(9)\nmemory usage: 220.9+ KB\n"
    }
   ],
   "source": [
    "main_df_copy.info()"
   ]
  },
  {
   "cell_type": "markdown",
   "metadata": {},
   "source": [
    "### Define\n",
    "#### Create a new column, breed_type that has the doggo, floofer, pupper or puppo as its values, extracted from the columns. Afterwards, drop the 4 columns. Change the new column type to category"
   ]
  },
  {
   "cell_type": "markdown",
   "metadata": {},
   "source": [
    "### Code"
   ]
  },
  {
   "cell_type": "code",
   "execution_count": 246,
   "metadata": {},
   "outputs": [],
   "source": [
    "main_df_copy['breed_type'] = main_df_copy.text.str.extract('(doggo | floofer | pupper | puppo)', expand=True) # Creating the column"
   ]
  },
  {
   "cell_type": "code",
   "execution_count": 247,
   "metadata": {},
   "outputs": [],
   "source": [
    "main_df_copy['breed_type'] = main_df_copy['breed_type'].str.strip() # Stripping any whitespaces"
   ]
  },
  {
   "cell_type": "code",
   "execution_count": 248,
   "metadata": {},
   "outputs": [],
   "source": [
    "main_df_copy = main_df_copy.drop(['doggo', 'floofer', 'pupper', 'puppo'], axis = 1) # Dropping the initial columns"
   ]
  },
  {
   "cell_type": "code",
   "execution_count": 249,
   "metadata": {},
   "outputs": [],
   "source": [
    "main_df_copy['breed_type'] = main_df_copy['breed_type'].astype('category') # Changing to categorical"
   ]
  },
  {
   "cell_type": "markdown",
   "metadata": {},
   "source": [
    "### Test"
   ]
  },
  {
   "cell_type": "code",
   "execution_count": 250,
   "metadata": {},
   "outputs": [
    {
     "output_type": "execute_result",
     "data": {
      "text/plain": "pupper     152\ndoggo      55 \npuppo      30 \nfloofer    3  \nName: breed_type, dtype: int64"
     },
     "metadata": {},
     "execution_count": 250
    }
   ],
   "source": [
    "main_df_copy.breed_type.value_counts()"
   ]
  },
  {
   "cell_type": "code",
   "execution_count": 251,
   "metadata": {
    "tags": []
   },
   "outputs": [
    {
     "output_type": "stream",
     "name": "stdout",
     "text": "<class 'pandas.core.frame.DataFrame'>\nInt64Index: 2175 entries, 0 to 2355\nData columns (total 9 columns):\n #   Column              Non-Null Count  Dtype   \n---  ------              --------------  -----   \n 0   tweet_id            2175 non-null   int64   \n 1   timestamp           2175 non-null   object  \n 2   source              2175 non-null   object  \n 3   text                2175 non-null   object  \n 4   expanded_urls       2117 non-null   object  \n 5   rating_numerator    2175 non-null   int64   \n 6   rating_denominator  2175 non-null   int64   \n 7   name                2175 non-null   object  \n 8   breed_type          240 non-null    category\ndtypes: category(1), int64(3), object(5)\nmemory usage: 155.2+ KB\n"
    }
   ],
   "source": [
    "main_df_copy.info()"
   ]
  },
  {
   "cell_type": "markdown",
   "metadata": {},
   "source": [
    "### Define\n",
    "#### Do a join between main dataframe and the image prediction. After that, drop unecessarry columns (we'll only keep the first prediction). "
   ]
  },
  {
   "cell_type": "markdown",
   "metadata": {},
   "source": [
    "### Code"
   ]
  },
  {
   "cell_type": "code",
   "execution_count": 252,
   "metadata": {},
   "outputs": [],
   "source": [
    "main_df_copy = main_df_copy.merge(image_predictions_copy, on = 'tweet_id', how = 'inner')"
   ]
  },
  {
   "cell_type": "code",
   "execution_count": 253,
   "metadata": {},
   "outputs": [],
   "source": [
    "# Drop the unecessary columns\n",
    "main_df_copy = main_df_copy.drop(['img_num', 'p2', 'p2_conf', 'p2_dog', 'p3', 'p3_conf', 'p3_dog', 'source'], axis = 1)"
   ]
  },
  {
   "cell_type": "markdown",
   "metadata": {},
   "source": [
    "### Test"
   ]
  },
  {
   "cell_type": "code",
   "execution_count": 254,
   "metadata": {
    "tags": []
   },
   "outputs": [
    {
     "output_type": "stream",
     "name": "stdout",
     "text": "<class 'pandas.core.frame.DataFrame'>\nInt64Index: 1994 entries, 0 to 1993\nData columns (total 12 columns):\n #   Column              Non-Null Count  Dtype   \n---  ------              --------------  -----   \n 0   tweet_id            1994 non-null   int64   \n 1   timestamp           1994 non-null   object  \n 2   text                1994 non-null   object  \n 3   expanded_urls       1994 non-null   object  \n 4   rating_numerator    1994 non-null   int64   \n 5   rating_denominator  1994 non-null   int64   \n 6   name                1994 non-null   object  \n 7   breed_type          216 non-null    category\n 8   jpg_url             1994 non-null   object  \n 9   p1                  1994 non-null   object  \n 10  p1_conf             1994 non-null   float64 \n 11  p1_dog              1994 non-null   bool    \ndtypes: bool(1), category(1), float64(1), int64(3), object(6)\nmemory usage: 175.4+ KB\n"
    }
   ],
   "source": [
    "main_df_copy.info(5)"
   ]
  },
  {
   "cell_type": "markdown",
   "metadata": {},
   "source": [
    "### Define\n",
    "#### Rename the tweets api dataframe ID column to tweet id"
   ]
  },
  {
   "cell_type": "markdown",
   "metadata": {},
   "source": [
    "### Code"
   ]
  },
  {
   "cell_type": "code",
   "execution_count": 255,
   "metadata": {},
   "outputs": [],
   "source": [
    "tweets_api_df_copy = tweets_api_df_copy.rename({'id' : 'tweet_id'}, axis = 'columns')"
   ]
  },
  {
   "cell_type": "markdown",
   "metadata": {},
   "source": [
    "### Test"
   ]
  },
  {
   "cell_type": "code",
   "execution_count": 256,
   "metadata": {},
   "outputs": [
    {
     "output_type": "execute_result",
     "data": {
      "text/plain": "             tweet_id  retweet_count  favorite_count\n0  892420643555336193  7609           35894         \n1  892177421306343426  5637           30963         \n2  891815181378084864  3730           23301         \n3  891689557279858688  7784           39174         \n4  891327558926688256  8383           37427         ",
      "text/html": "<div>\n<style scoped>\n    .dataframe tbody tr th:only-of-type {\n        vertical-align: middle;\n    }\n\n    .dataframe tbody tr th {\n        vertical-align: top;\n    }\n\n    .dataframe thead th {\n        text-align: right;\n    }\n</style>\n<table border=\"1\" class=\"dataframe\">\n  <thead>\n    <tr style=\"text-align: right;\">\n      <th></th>\n      <th>tweet_id</th>\n      <th>retweet_count</th>\n      <th>favorite_count</th>\n    </tr>\n  </thead>\n  <tbody>\n    <tr>\n      <th>0</th>\n      <td>892420643555336193</td>\n      <td>7609</td>\n      <td>35894</td>\n    </tr>\n    <tr>\n      <th>1</th>\n      <td>892177421306343426</td>\n      <td>5637</td>\n      <td>30963</td>\n    </tr>\n    <tr>\n      <th>2</th>\n      <td>891815181378084864</td>\n      <td>3730</td>\n      <td>23301</td>\n    </tr>\n    <tr>\n      <th>3</th>\n      <td>891689557279858688</td>\n      <td>7784</td>\n      <td>39174</td>\n    </tr>\n    <tr>\n      <th>4</th>\n      <td>891327558926688256</td>\n      <td>8383</td>\n      <td>37427</td>\n    </tr>\n  </tbody>\n</table>\n</div>"
     },
     "metadata": {},
     "execution_count": 256
    }
   ],
   "source": [
    "tweets_api_df_copy.head(5)"
   ]
  },
  {
   "cell_type": "markdown",
   "metadata": {},
   "source": [
    "### Define\n",
    "#### Join the tweets dataframe with the maindataframe to add the favorites & retweets counts"
   ]
  },
  {
   "cell_type": "markdown",
   "metadata": {},
   "source": [
    "### Code"
   ]
  },
  {
   "cell_type": "code",
   "execution_count": 257,
   "metadata": {},
   "outputs": [],
   "source": [
    "main_df_copy = pd.merge(main_df_copy, tweets_api_df_copy, on = 'tweet_id', how = 'left')"
   ]
  },
  {
   "cell_type": "markdown",
   "metadata": {},
   "source": [
    "### Test"
   ]
  },
  {
   "cell_type": "code",
   "execution_count": 258,
   "metadata": {
    "tags": []
   },
   "outputs": [
    {
     "output_type": "stream",
     "name": "stdout",
     "text": "<class 'pandas.core.frame.DataFrame'>\nInt64Index: 1994 entries, 0 to 1993\nData columns (total 14 columns):\n #   Column              Non-Null Count  Dtype   \n---  ------              --------------  -----   \n 0   tweet_id            1994 non-null   int64   \n 1   timestamp           1994 non-null   object  \n 2   text                1994 non-null   object  \n 3   expanded_urls       1994 non-null   object  \n 4   rating_numerator    1994 non-null   int64   \n 5   rating_denominator  1994 non-null   int64   \n 6   name                1994 non-null   object  \n 7   breed_type          216 non-null    category\n 8   jpg_url             1994 non-null   object  \n 9   p1                  1994 non-null   object  \n 10  p1_conf             1994 non-null   float64 \n 11  p1_dog              1994 non-null   bool    \n 12  retweet_count       1987 non-null   float64 \n 13  favorite_count      1987 non-null   float64 \ndtypes: bool(1), category(1), float64(3), int64(3), object(6)\nmemory usage: 206.6+ KB\n"
    }
   ],
   "source": [
    "main_df_copy.info(5)"
   ]
  },
  {
   "cell_type": "markdown",
   "metadata": {},
   "source": [
    "### Define\n",
    "#### Change the datatype of the timestamp column to datetime"
   ]
  },
  {
   "cell_type": "markdown",
   "metadata": {},
   "source": [
    "### Code"
   ]
  },
  {
   "cell_type": "code",
   "execution_count": 259,
   "metadata": {},
   "outputs": [],
   "source": [
    "main_df_copy.timestamp = pd.to_datetime(main_df_copy.timestamp)"
   ]
  },
  {
   "cell_type": "markdown",
   "metadata": {},
   "source": [
    "### Test"
   ]
  },
  {
   "cell_type": "code",
   "execution_count": 260,
   "metadata": {
    "tags": []
   },
   "outputs": [
    {
     "output_type": "stream",
     "name": "stdout",
     "text": "<class 'pandas.core.frame.DataFrame'>\nInt64Index: 1994 entries, 0 to 1993\nData columns (total 14 columns):\n #   Column              Non-Null Count  Dtype              \n---  ------              --------------  -----              \n 0   tweet_id            1994 non-null   int64              \n 1   timestamp           1994 non-null   datetime64[ns, UTC]\n 2   text                1994 non-null   object             \n 3   expanded_urls       1994 non-null   object             \n 4   rating_numerator    1994 non-null   int64              \n 5   rating_denominator  1994 non-null   int64              \n 6   name                1994 non-null   object             \n 7   breed_type          216 non-null    category           \n 8   jpg_url             1994 non-null   object             \n 9   p1                  1994 non-null   object             \n 10  p1_conf             1994 non-null   float64            \n 11  p1_dog              1994 non-null   bool               \n 12  retweet_count       1987 non-null   float64            \n 13  favorite_count      1987 non-null   float64            \ndtypes: bool(1), category(1), datetime64[ns, UTC](1), float64(3), int64(3), object(5)\nmemory usage: 206.6+ KB\n"
    }
   ],
   "source": [
    "main_df_copy.info(5)"
   ]
  },
  {
   "cell_type": "markdown",
   "metadata": {},
   "source": [
    "### Define\n",
    "#### Capitalize the first letter of the p1 column"
   ]
  },
  {
   "cell_type": "markdown",
   "metadata": {},
   "source": [
    "### Code"
   ]
  },
  {
   "cell_type": "code",
   "execution_count": 261,
   "metadata": {},
   "outputs": [],
   "source": [
    "main_df_copy.p1 = main_df_copy.p1.str.title()"
   ]
  },
  {
   "cell_type": "markdown",
   "metadata": {},
   "source": [
    "### Test"
   ]
  },
  {
   "cell_type": "code",
   "execution_count": 262,
   "metadata": {},
   "outputs": [
    {
     "output_type": "execute_result",
     "data": {
      "text/plain": "             tweet_id                 timestamp  \\\n0  892420643555336193 2017-08-01 16:23:56+00:00   \n1  892177421306343426 2017-08-01 00:17:27+00:00   \n2  891815181378084864 2017-07-31 00:18:03+00:00   \n3  891689557279858688 2017-07-30 15:58:51+00:00   \n4  891327558926688256 2017-07-29 16:00:24+00:00   \n\n                                                                                                                                                                 text  \\\n0  This is Phineas. He's a mystical boy. Only ever appears in the hole of a donut. 13/10 https://t.co/MgUWQ76dJU                                                        \n1  This is Tilly. She's just checking pup on you. Hopes you're doing ok. If not, she's available for pats, snugs, boops, the whole bit. 13/10 https://t.co/0Xxu71qeIV   \n2  This is Archie. He is a rare Norwegian Pouncing Corgo. Lives in the tall grass. You never know when one may strike. 12/10 https://t.co/wUnZnhtVJB                    \n3  This is Darla. She commenced a snooze mid meal. 13/10 happens to the best of us https://t.co/tD36da7qLQ                                                              \n4  This is Franklin. He would like you to stop calling him \"cute.\" He is a very fierce shark and should be respected as such. 12/10 #BarkWeek https://t.co/AtUZn91f7f   \n\n                                                                                                                     expanded_urls  \\\n0  https://twitter.com/dog_rates/status/892420643555336193/photo/1                                                                   \n1  https://twitter.com/dog_rates/status/892177421306343426/photo/1                                                                   \n2  https://twitter.com/dog_rates/status/891815181378084864/photo/1                                                                   \n3  https://twitter.com/dog_rates/status/891689557279858688/photo/1                                                                   \n4  https://twitter.com/dog_rates/status/891327558926688256/photo/1,https://twitter.com/dog_rates/status/891327558926688256/photo/1   \n\n   rating_numerator  rating_denominator      name breed_type  \\\n0  13                10                  Phineas   NaN         \n1  13                10                  Tilly     NaN         \n2  12                10                  Archie    NaN         \n3  13                10                  Darla     NaN         \n4  12                10                  Franklin  NaN         \n\n                                           jpg_url           p1   p1_conf  \\\n0  https://pbs.twimg.com/media/DGKD1-bXoAAIAUK.jpg  Orange       0.097049   \n1  https://pbs.twimg.com/media/DGGmoV4XsAAUL6n.jpg  Chihuahua    0.323581   \n2  https://pbs.twimg.com/media/DGBdLU1WsAANxJ9.jpg  Chihuahua    0.716012   \n3  https://pbs.twimg.com/media/DF_q7IAWsAEuuN8.jpg  Paper_Towel  0.170278   \n4  https://pbs.twimg.com/media/DF6hr6BUMAAzZgT.jpg  Basset       0.555712   \n\n   p1_dog  retweet_count  favorite_count  \n0  False   7609.0         35894.0         \n1  True    5637.0         30963.0         \n2  True    3730.0         23301.0         \n3  False   7784.0         39174.0         \n4  True    8383.0         37427.0         ",
      "text/html": "<div>\n<style scoped>\n    .dataframe tbody tr th:only-of-type {\n        vertical-align: middle;\n    }\n\n    .dataframe tbody tr th {\n        vertical-align: top;\n    }\n\n    .dataframe thead th {\n        text-align: right;\n    }\n</style>\n<table border=\"1\" class=\"dataframe\">\n  <thead>\n    <tr style=\"text-align: right;\">\n      <th></th>\n      <th>tweet_id</th>\n      <th>timestamp</th>\n      <th>text</th>\n      <th>expanded_urls</th>\n      <th>rating_numerator</th>\n      <th>rating_denominator</th>\n      <th>name</th>\n      <th>breed_type</th>\n      <th>jpg_url</th>\n      <th>p1</th>\n      <th>p1_conf</th>\n      <th>p1_dog</th>\n      <th>retweet_count</th>\n      <th>favorite_count</th>\n    </tr>\n  </thead>\n  <tbody>\n    <tr>\n      <th>0</th>\n      <td>892420643555336193</td>\n      <td>2017-08-01 16:23:56+00:00</td>\n      <td>This is Phineas. He's a mystical boy. Only ever appears in the hole of a donut. 13/10 https://t.co/MgUWQ76dJU</td>\n      <td>https://twitter.com/dog_rates/status/892420643555336193/photo/1</td>\n      <td>13</td>\n      <td>10</td>\n      <td>Phineas</td>\n      <td>NaN</td>\n      <td>https://pbs.twimg.com/media/DGKD1-bXoAAIAUK.jpg</td>\n      <td>Orange</td>\n      <td>0.097049</td>\n      <td>False</td>\n      <td>7609.0</td>\n      <td>35894.0</td>\n    </tr>\n    <tr>\n      <th>1</th>\n      <td>892177421306343426</td>\n      <td>2017-08-01 00:17:27+00:00</td>\n      <td>This is Tilly. She's just checking pup on you. Hopes you're doing ok. If not, she's available for pats, snugs, boops, the whole bit. 13/10 https://t.co/0Xxu71qeIV</td>\n      <td>https://twitter.com/dog_rates/status/892177421306343426/photo/1</td>\n      <td>13</td>\n      <td>10</td>\n      <td>Tilly</td>\n      <td>NaN</td>\n      <td>https://pbs.twimg.com/media/DGGmoV4XsAAUL6n.jpg</td>\n      <td>Chihuahua</td>\n      <td>0.323581</td>\n      <td>True</td>\n      <td>5637.0</td>\n      <td>30963.0</td>\n    </tr>\n    <tr>\n      <th>2</th>\n      <td>891815181378084864</td>\n      <td>2017-07-31 00:18:03+00:00</td>\n      <td>This is Archie. He is a rare Norwegian Pouncing Corgo. Lives in the tall grass. You never know when one may strike. 12/10 https://t.co/wUnZnhtVJB</td>\n      <td>https://twitter.com/dog_rates/status/891815181378084864/photo/1</td>\n      <td>12</td>\n      <td>10</td>\n      <td>Archie</td>\n      <td>NaN</td>\n      <td>https://pbs.twimg.com/media/DGBdLU1WsAANxJ9.jpg</td>\n      <td>Chihuahua</td>\n      <td>0.716012</td>\n      <td>True</td>\n      <td>3730.0</td>\n      <td>23301.0</td>\n    </tr>\n    <tr>\n      <th>3</th>\n      <td>891689557279858688</td>\n      <td>2017-07-30 15:58:51+00:00</td>\n      <td>This is Darla. She commenced a snooze mid meal. 13/10 happens to the best of us https://t.co/tD36da7qLQ</td>\n      <td>https://twitter.com/dog_rates/status/891689557279858688/photo/1</td>\n      <td>13</td>\n      <td>10</td>\n      <td>Darla</td>\n      <td>NaN</td>\n      <td>https://pbs.twimg.com/media/DF_q7IAWsAEuuN8.jpg</td>\n      <td>Paper_Towel</td>\n      <td>0.170278</td>\n      <td>False</td>\n      <td>7784.0</td>\n      <td>39174.0</td>\n    </tr>\n    <tr>\n      <th>4</th>\n      <td>891327558926688256</td>\n      <td>2017-07-29 16:00:24+00:00</td>\n      <td>This is Franklin. He would like you to stop calling him \"cute.\" He is a very fierce shark and should be respected as such. 12/10 #BarkWeek https://t.co/AtUZn91f7f</td>\n      <td>https://twitter.com/dog_rates/status/891327558926688256/photo/1,https://twitter.com/dog_rates/status/891327558926688256/photo/1</td>\n      <td>12</td>\n      <td>10</td>\n      <td>Franklin</td>\n      <td>NaN</td>\n      <td>https://pbs.twimg.com/media/DF6hr6BUMAAzZgT.jpg</td>\n      <td>Basset</td>\n      <td>0.555712</td>\n      <td>True</td>\n      <td>8383.0</td>\n      <td>37427.0</td>\n    </tr>\n  </tbody>\n</table>\n</div>"
     },
     "metadata": {},
     "execution_count": 262
    }
   ],
   "source": [
    "main_df_copy.head(5)"
   ]
  },
  {
   "cell_type": "markdown",
   "metadata": {},
   "source": [
    "### Define\n",
    "#### Replace incorrect dog names -> replace lower capital values with None, then replacing 'None' values with NaN"
   ]
  },
  {
   "cell_type": "markdown",
   "metadata": {},
   "source": [
    "### Code"
   ]
  },
  {
   "cell_type": "code",
   "execution_count": 263,
   "metadata": {},
   "outputs": [],
   "source": [
    "main_df_copy['name'][main_df_copy['name'].str.match('[a-z]+')] = 'None'\n",
    "main_df_copy.name = main_df_copy.name.replace('None', np.nan)"
   ]
  },
  {
   "cell_type": "markdown",
   "metadata": {},
   "source": [
    "### Test"
   ]
  },
  {
   "cell_type": "code",
   "execution_count": 264,
   "metadata": {},
   "outputs": [
    {
     "output_type": "execute_result",
     "data": {
      "text/plain": "Empty DataFrame\nColumns: [tweet_id, timestamp, text, expanded_urls, rating_numerator, rating_denominator, name, breed_type, jpg_url, p1, p1_conf, p1_dog, retweet_count, favorite_count]\nIndex: []",
      "text/html": "<div>\n<style scoped>\n    .dataframe tbody tr th:only-of-type {\n        vertical-align: middle;\n    }\n\n    .dataframe tbody tr th {\n        vertical-align: top;\n    }\n\n    .dataframe thead th {\n        text-align: right;\n    }\n</style>\n<table border=\"1\" class=\"dataframe\">\n  <thead>\n    <tr style=\"text-align: right;\">\n      <th></th>\n      <th>tweet_id</th>\n      <th>timestamp</th>\n      <th>text</th>\n      <th>expanded_urls</th>\n      <th>rating_numerator</th>\n      <th>rating_denominator</th>\n      <th>name</th>\n      <th>breed_type</th>\n      <th>jpg_url</th>\n      <th>p1</th>\n      <th>p1_conf</th>\n      <th>p1_dog</th>\n      <th>retweet_count</th>\n      <th>favorite_count</th>\n    </tr>\n  </thead>\n  <tbody>\n  </tbody>\n</table>\n</div>"
     },
     "metadata": {},
     "execution_count": 264
    }
   ],
   "source": [
    "main_df_copy[main_df_copy.name == 'None']"
   ]
  },
  {
   "cell_type": "markdown",
   "metadata": {},
   "source": [
    "### Define\n",
    "#### Replace the wrongly extracted values in the rating_numerator column. There are cases where the numbers before the decimal was scrapped off. Also there is a case where 50/50 were extracted rather than the number"
   ]
  },
  {
   "cell_type": "markdown",
   "metadata": {},
   "source": [
    "### Code"
   ]
  },
  {
   "cell_type": "code",
   "execution_count": 265,
   "metadata": {
    "tags": []
   },
   "outputs": [],
   "source": [
    "# Using regex, we can extract the values where we have a decimal followed by a forward slash (/)\n",
    "values = main_df_copy.loc[main_df_copy.text.str.contains('(\\d+\\.\\d+\\/)'), 'text'].str.extract('(\\d+\\.\\d+)')\n",
    "main_df_copy.loc[main_df_copy.text.str.contains('(\\d+\\.\\d+\\/)'), 'rating_numerator'] = values[0]"
   ]
  },
  {
   "cell_type": "code",
   "execution_count": 266,
   "metadata": {},
   "outputs": [
    {
     "output_type": "execute_result",
     "data": {
      "text/plain": "               tweet_id                 timestamp  \\\n925  716439118184652801 2016-04-03 01:36:11+00:00   \n\n                                                                                                                      text  \\\n925  This is Bluebert. He just saw that both #FinalFur match ups are split 50/50. Amazed af. 11/10 https://t.co/Kky1DPG4iq   \n\n                                                       expanded_urls  \\\n925  https://twitter.com/dog_rates/status/716439118184652801/photo/1   \n\n    rating_numerator  rating_denominator      name breed_type  \\\n925  50               50                  Bluebert  NaN         \n\n                                             jpg_url              p1  \\\n925  https://pbs.twimg.com/media/CfFNk7cWAAA-hND.jpg  Siberian_Husky   \n\n      p1_conf  p1_dog  retweet_count  favorite_count  \n925  0.396495  True    205.0          2340.0          ",
      "text/html": "<div>\n<style scoped>\n    .dataframe tbody tr th:only-of-type {\n        vertical-align: middle;\n    }\n\n    .dataframe tbody tr th {\n        vertical-align: top;\n    }\n\n    .dataframe thead th {\n        text-align: right;\n    }\n</style>\n<table border=\"1\" class=\"dataframe\">\n  <thead>\n    <tr style=\"text-align: right;\">\n      <th></th>\n      <th>tweet_id</th>\n      <th>timestamp</th>\n      <th>text</th>\n      <th>expanded_urls</th>\n      <th>rating_numerator</th>\n      <th>rating_denominator</th>\n      <th>name</th>\n      <th>breed_type</th>\n      <th>jpg_url</th>\n      <th>p1</th>\n      <th>p1_conf</th>\n      <th>p1_dog</th>\n      <th>retweet_count</th>\n      <th>favorite_count</th>\n    </tr>\n  </thead>\n  <tbody>\n    <tr>\n      <th>925</th>\n      <td>716439118184652801</td>\n      <td>2016-04-03 01:36:11+00:00</td>\n      <td>This is Bluebert. He just saw that both #FinalFur match ups are split 50/50. Amazed af. 11/10 https://t.co/Kky1DPG4iq</td>\n      <td>https://twitter.com/dog_rates/status/716439118184652801/photo/1</td>\n      <td>50</td>\n      <td>50</td>\n      <td>Bluebert</td>\n      <td>NaN</td>\n      <td>https://pbs.twimg.com/media/CfFNk7cWAAA-hND.jpg</td>\n      <td>Siberian_Husky</td>\n      <td>0.396495</td>\n      <td>True</td>\n      <td>205.0</td>\n      <td>2340.0</td>\n    </tr>\n  </tbody>\n</table>\n</div>"
     },
     "metadata": {},
     "execution_count": 266
    }
   ],
   "source": [
    "main_df_copy.loc[main_df_copy.rating_numerator == 50]"
   ]
  },
  {
   "cell_type": "code",
   "execution_count": 267,
   "metadata": {},
   "outputs": [],
   "source": [
    "main_df_copy.loc[main_df_copy.index == 925, 'rating_numerator'] = 11\n",
    "main_df_copy.loc[main_df_copy.index == 925, 'rating_denominator'] = 10"
   ]
  },
  {
   "cell_type": "markdown",
   "metadata": {},
   "source": [
    "### Test"
   ]
  },
  {
   "cell_type": "code",
   "execution_count": 268,
   "metadata": {},
   "outputs": [
    {
     "output_type": "execute_result",
     "data": {
      "text/plain": "                tweet_id                 timestamp  \\\n39    883482846933004288 2017-07-08 00:28:19+00:00   \n503   786709082849828864 2016-10-13 23:23:56+00:00   \n553   778027034220126208 2016-09-20 00:24:34+00:00   \n1374  680494726643068929 2015-12-25 21:06:00+00:00   \n\n                                                                                                                                                                   text  \\\n39    This is Bella. She hopes her smile made you smile. If not, she is also offering you her favorite monkey. 13.5/10 https://t.co/qjrljjt948                            \n503   This is Logan, the Chow who lived. He solemnly swears he's up to lots of good. H*ckin magical af 9.75/10 https://t.co/yBO5wuqaPS                                    \n553   This is Sophie. She's a Jubilant Bush Pupper. Super h*ckin rare. Appears at random just to smile at the locals. 11.27/10 would smile back https://t.co/QFaUiIHxHq   \n1374  Here we have uncovered an entire battalion of holiday puppers. Average of 11.26/10 https://t.co/eNm2S6p9BD                                                          \n\n                                                                                                                        expanded_urls  \\\n39    https://twitter.com/dog_rates/status/883482846933004288/photo/1,https://twitter.com/dog_rates/status/883482846933004288/photo/1   \n503   https://twitter.com/dog_rates/status/786709082849828864/photo/1                                                                   \n553   https://twitter.com/dog_rates/status/778027034220126208/photo/1                                                                   \n1374  https://twitter.com/dog_rates/status/680494726643068929/photo/1                                                                   \n\n     rating_numerator  rating_denominator    name breed_type  \\\n39    13.5             10                  Bella   NaN         \n503   9.75             10                  Logan   NaN         \n553   11.27            10                  Sophie  NaN         \n1374  11.26            10                  NaN     NaN         \n\n                                              jpg_url                p1  \\\n39    https://pbs.twimg.com/media/DELC9dZXUAADqUk.jpg  Golden_Retriever   \n503   https://pbs.twimg.com/media/CurzvFTXgAA2_AP.jpg  Pomeranian         \n553   https://pbs.twimg.com/media/Cswbc2yWcAAVsCJ.jpg  Clumber            \n1374  https://pbs.twimg.com/media/CXGaVxOWAAADjhF.jpg  Kuvasz             \n\n       p1_conf  p1_dog  retweet_count  favorite_count  \n39    0.943082  True    8913.0         42617.0         \n503   0.467321  True    6178.0         18401.0         \n553   0.946718  True    1617.0         6579.0          \n1374  0.438627  True    478.0          1694.0          ",
      "text/html": "<div>\n<style scoped>\n    .dataframe tbody tr th:only-of-type {\n        vertical-align: middle;\n    }\n\n    .dataframe tbody tr th {\n        vertical-align: top;\n    }\n\n    .dataframe thead th {\n        text-align: right;\n    }\n</style>\n<table border=\"1\" class=\"dataframe\">\n  <thead>\n    <tr style=\"text-align: right;\">\n      <th></th>\n      <th>tweet_id</th>\n      <th>timestamp</th>\n      <th>text</th>\n      <th>expanded_urls</th>\n      <th>rating_numerator</th>\n      <th>rating_denominator</th>\n      <th>name</th>\n      <th>breed_type</th>\n      <th>jpg_url</th>\n      <th>p1</th>\n      <th>p1_conf</th>\n      <th>p1_dog</th>\n      <th>retweet_count</th>\n      <th>favorite_count</th>\n    </tr>\n  </thead>\n  <tbody>\n    <tr>\n      <th>39</th>\n      <td>883482846933004288</td>\n      <td>2017-07-08 00:28:19+00:00</td>\n      <td>This is Bella. She hopes her smile made you smile. If not, she is also offering you her favorite monkey. 13.5/10 https://t.co/qjrljjt948</td>\n      <td>https://twitter.com/dog_rates/status/883482846933004288/photo/1,https://twitter.com/dog_rates/status/883482846933004288/photo/1</td>\n      <td>13.5</td>\n      <td>10</td>\n      <td>Bella</td>\n      <td>NaN</td>\n      <td>https://pbs.twimg.com/media/DELC9dZXUAADqUk.jpg</td>\n      <td>Golden_Retriever</td>\n      <td>0.943082</td>\n      <td>True</td>\n      <td>8913.0</td>\n      <td>42617.0</td>\n    </tr>\n    <tr>\n      <th>503</th>\n      <td>786709082849828864</td>\n      <td>2016-10-13 23:23:56+00:00</td>\n      <td>This is Logan, the Chow who lived. He solemnly swears he's up to lots of good. H*ckin magical af 9.75/10 https://t.co/yBO5wuqaPS</td>\n      <td>https://twitter.com/dog_rates/status/786709082849828864/photo/1</td>\n      <td>9.75</td>\n      <td>10</td>\n      <td>Logan</td>\n      <td>NaN</td>\n      <td>https://pbs.twimg.com/media/CurzvFTXgAA2_AP.jpg</td>\n      <td>Pomeranian</td>\n      <td>0.467321</td>\n      <td>True</td>\n      <td>6178.0</td>\n      <td>18401.0</td>\n    </tr>\n    <tr>\n      <th>553</th>\n      <td>778027034220126208</td>\n      <td>2016-09-20 00:24:34+00:00</td>\n      <td>This is Sophie. She's a Jubilant Bush Pupper. Super h*ckin rare. Appears at random just to smile at the locals. 11.27/10 would smile back https://t.co/QFaUiIHxHq</td>\n      <td>https://twitter.com/dog_rates/status/778027034220126208/photo/1</td>\n      <td>11.27</td>\n      <td>10</td>\n      <td>Sophie</td>\n      <td>NaN</td>\n      <td>https://pbs.twimg.com/media/Cswbc2yWcAAVsCJ.jpg</td>\n      <td>Clumber</td>\n      <td>0.946718</td>\n      <td>True</td>\n      <td>1617.0</td>\n      <td>6579.0</td>\n    </tr>\n    <tr>\n      <th>1374</th>\n      <td>680494726643068929</td>\n      <td>2015-12-25 21:06:00+00:00</td>\n      <td>Here we have uncovered an entire battalion of holiday puppers. Average of 11.26/10 https://t.co/eNm2S6p9BD</td>\n      <td>https://twitter.com/dog_rates/status/680494726643068929/photo/1</td>\n      <td>11.26</td>\n      <td>10</td>\n      <td>NaN</td>\n      <td>NaN</td>\n      <td>https://pbs.twimg.com/media/CXGaVxOWAAADjhF.jpg</td>\n      <td>Kuvasz</td>\n      <td>0.438627</td>\n      <td>True</td>\n      <td>478.0</td>\n      <td>1694.0</td>\n    </tr>\n  </tbody>\n</table>\n</div>"
     },
     "metadata": {},
     "execution_count": 268
    }
   ],
   "source": [
    "main_df_copy.loc[main_df_copy.text.str.contains('(\\d+\\.\\d+\\/)')]"
   ]
  },
  {
   "cell_type": "code",
   "execution_count": 269,
   "metadata": {},
   "outputs": [
    {
     "output_type": "execute_result",
     "data": {
      "text/plain": "               tweet_id                 timestamp  \\\n925  716439118184652801 2016-04-03 01:36:11+00:00   \n\n                                                                                                                      text  \\\n925  This is Bluebert. He just saw that both #FinalFur match ups are split 50/50. Amazed af. 11/10 https://t.co/Kky1DPG4iq   \n\n                                                       expanded_urls  \\\n925  https://twitter.com/dog_rates/status/716439118184652801/photo/1   \n\n    rating_numerator  rating_denominator      name breed_type  \\\n925  11               10                  Bluebert  NaN         \n\n                                             jpg_url              p1  \\\n925  https://pbs.twimg.com/media/CfFNk7cWAAA-hND.jpg  Siberian_Husky   \n\n      p1_conf  p1_dog  retweet_count  favorite_count  \n925  0.396495  True    205.0          2340.0          ",
      "text/html": "<div>\n<style scoped>\n    .dataframe tbody tr th:only-of-type {\n        vertical-align: middle;\n    }\n\n    .dataframe tbody tr th {\n        vertical-align: top;\n    }\n\n    .dataframe thead th {\n        text-align: right;\n    }\n</style>\n<table border=\"1\" class=\"dataframe\">\n  <thead>\n    <tr style=\"text-align: right;\">\n      <th></th>\n      <th>tweet_id</th>\n      <th>timestamp</th>\n      <th>text</th>\n      <th>expanded_urls</th>\n      <th>rating_numerator</th>\n      <th>rating_denominator</th>\n      <th>name</th>\n      <th>breed_type</th>\n      <th>jpg_url</th>\n      <th>p1</th>\n      <th>p1_conf</th>\n      <th>p1_dog</th>\n      <th>retweet_count</th>\n      <th>favorite_count</th>\n    </tr>\n  </thead>\n  <tbody>\n    <tr>\n      <th>925</th>\n      <td>716439118184652801</td>\n      <td>2016-04-03 01:36:11+00:00</td>\n      <td>This is Bluebert. He just saw that both #FinalFur match ups are split 50/50. Amazed af. 11/10 https://t.co/Kky1DPG4iq</td>\n      <td>https://twitter.com/dog_rates/status/716439118184652801/photo/1</td>\n      <td>11</td>\n      <td>10</td>\n      <td>Bluebert</td>\n      <td>NaN</td>\n      <td>https://pbs.twimg.com/media/CfFNk7cWAAA-hND.jpg</td>\n      <td>Siberian_Husky</td>\n      <td>0.396495</td>\n      <td>True</td>\n      <td>205.0</td>\n      <td>2340.0</td>\n    </tr>\n  </tbody>\n</table>\n</div>"
     },
     "metadata": {},
     "execution_count": 269
    }
   ],
   "source": [
    "main_df_copy.loc[main_df_copy.index == 925]"
   ]
  },
  {
   "cell_type": "markdown",
   "metadata": {},
   "source": [
    "### Saving the cleaner dataframes"
   ]
  },
  {
   "cell_type": "code",
   "execution_count": 283,
   "metadata": {},
   "outputs": [],
   "source": [
    "main_df_clean = main_df_copy.copy()\n",
    "tweets_api_df_clean = tweets_api_df_copy.copy()\n",
    "image_predictions_clean = image_predictions_copy.copy()"
   ]
  },
  {
   "cell_type": "code",
   "execution_count": 284,
   "metadata": {},
   "outputs": [],
   "source": [
    "main_df_clean.to_csv('main_df_clean.csv', index = False)\n",
    "image_predictions_clean.to_csv('image_predictions_clean.csv', index = False)\n",
    "tweets_api_df_clean.to_csv('tweets_api_df_clean.csv', index = False)"
   ]
  },
  {
   "cell_type": "markdown",
   "metadata": {},
   "source": [
    "# Analysis and Visualisation"
   ]
  },
  {
   "cell_type": "code",
   "execution_count": null,
   "metadata": {},
   "outputs": [],
   "source": [
    "test"
   ]
  }
 ]
}